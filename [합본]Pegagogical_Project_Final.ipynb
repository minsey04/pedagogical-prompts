{
  "cells": [
    {
      "cell_type": "markdown",
      "metadata": {
        "id": "A2g74bOx8E6M"
      },
      "source": [
        "# 🎓 AI 질문 자동 생성기 (책 기반)\n",
        "\n",
        "이 노트북은 책 제목을 입력하면 ChatGPT API를 사용해 **에세이형 토론 질문 22개**를 자동 생성하고, Google Sheets에 저장하는 워크플로우입니다.\n",
        "\n",
        "📌 이 노트북은 다음을 포함합니다:\n",
        "- OpenAI API 설정\n",
        "- 책 제목 입력\n",
        "- GPT-3.5로 질문 생성\n",
        "- pandas로 정리\n",
        "- Google Sheets 자동 업로드"
      ]
    },
    {
      "cell_type": "code",
      "execution_count": null,
      "metadata": {
        "colab": {
          "base_uri": "https://localhost:8080/"
        },
        "id": "LXXVG91Z8E6N",
        "outputId": "e0ca7f5a-8af6-469a-b141-65759cd4faaf"
      },
      "outputs": [
        {
          "name": "stdout",
          "output_type": "stream",
          "text": [
            "\u001b[2K     \u001b[90m━━━━━━━━━━━━━━━━━━━━━━━━━━━━━━━━━━━━━━━━\u001b[0m \u001b[32m91.2/91.2 kB\u001b[0m \u001b[31m4.4 MB/s\u001b[0m eta \u001b[36m0:00:00\u001b[0m\n",
            "\u001b[2K   \u001b[90m━━━━━━━━━━━━━━━━━━━━━━━━━━━━━━━━━━━━━━━━\u001b[0m \u001b[32m755.6/755.6 kB\u001b[0m \u001b[31m23.6 MB/s\u001b[0m eta \u001b[36m0:00:00\u001b[0m\n",
            "\u001b[2K   \u001b[90m━━━━━━━━━━━━━━━━━━━━━━━━━━━━━━━━━━━━━━━━\u001b[0m \u001b[32m12.4/12.4 MB\u001b[0m \u001b[31m34.8 MB/s\u001b[0m eta \u001b[36m0:00:00\u001b[0m\n",
            "\u001b[?25h\u001b[31mERROR: pip's dependency resolver does not currently take into account all the packages that are installed. This behaviour is the source of the following dependency conflicts.\n",
            "google-colab 1.0.0 requires pandas==2.2.2, but you have pandas 2.3.1 which is incompatible.\n",
            "cudf-cu12 25.2.1 requires pandas<2.2.4dev0,>=2.0, but you have pandas 2.3.1 which is incompatible.\n",
            "dask-cudf-cu12 25.2.2 requires pandas<2.2.4dev0,>=2.0, but you have pandas 2.3.1 which is incompatible.\u001b[0m\u001b[31m\n",
            "\u001b[0m"
          ]
        }
      ],
      "source": [
        "# ✅ 필요한 라이브러리 설치 (최초 1회 실행)\n",
        "!pip install --upgrade openai gspread oauth2client pandas --quiet"
      ]
    },
    {
      "cell_type": "markdown",
      "metadata": {
        "id": "pZD4PSMx8E6O"
      },
      "source": [
        "## 🔐 OpenAI API 키 입력\n",
        "- 아래 코드에 본인의 API 키(`sk-...`)를 넣으세요.\n",
        "- GPT-4 접근권한이 없을 경우 GPT-3.5로 자동 생성됩니다."
      ]
    },
    {
      "cell_type": "code",
      "execution_count": null,
      "metadata": {
        "id": "TGl5amBZ8E6O"
      },
      "outputs": [],
      "source": [
        "from openai import OpenAI\n",
        "import pandas as pd\n",
        "\n",
        "# 여기에 본인의 OpenAI API 키 입력\n",
        "client = OpenAI(api_key=\"\")"
      ]
    },
    {
      "cell_type": "markdown",
      "metadata": {
        "id": "_95jbSwA8E6O"
      },
      "source": [
        "## 📁 Google Sheets 인증파일 업로드\n",
        "- Google Cloud Console에서 `credentials.json` 다운로드 받아 업로드하세요.\n",
        "- 서비스 계정 이메일을 Google Sheets 문서에 공유해야 합니다."
      ]
    },
    {
      "cell_type": "code",
      "execution_count": null,
      "metadata": {
        "colab": {
          "base_uri": "https://localhost:8080/",
          "height": 74
        },
        "id": "oXAT_jAT8E6O",
        "outputId": "b2536089-f948-473e-90b3-8376cfd686f5"
      },
      "outputs": [
        {
          "data": {
            "text/html": [
              "\n",
              "     <input type=\"file\" id=\"files-26ad8d95-18d2-45b5-86b6-e17e155af864\" name=\"files[]\" multiple disabled\n",
              "        style=\"border:none\" />\n",
              "     <output id=\"result-26ad8d95-18d2-45b5-86b6-e17e155af864\">\n",
              "      Upload widget is only available when the cell has been executed in the\n",
              "      current browser session. Please rerun this cell to enable.\n",
              "      </output>\n",
              "      <script>// Copyright 2017 Google LLC\n",
              "//\n",
              "// Licensed under the Apache License, Version 2.0 (the \"License\");\n",
              "// you may not use this file except in compliance with the License.\n",
              "// You may obtain a copy of the License at\n",
              "//\n",
              "//      http://www.apache.org/licenses/LICENSE-2.0\n",
              "//\n",
              "// Unless required by applicable law or agreed to in writing, software\n",
              "// distributed under the License is distributed on an \"AS IS\" BASIS,\n",
              "// WITHOUT WARRANTIES OR CONDITIONS OF ANY KIND, either express or implied.\n",
              "// See the License for the specific language governing permissions and\n",
              "// limitations under the License.\n",
              "\n",
              "/**\n",
              " * @fileoverview Helpers for google.colab Python module.\n",
              " */\n",
              "(function(scope) {\n",
              "function span(text, styleAttributes = {}) {\n",
              "  const element = document.createElement('span');\n",
              "  element.textContent = text;\n",
              "  for (const key of Object.keys(styleAttributes)) {\n",
              "    element.style[key] = styleAttributes[key];\n",
              "  }\n",
              "  return element;\n",
              "}\n",
              "\n",
              "// Max number of bytes which will be uploaded at a time.\n",
              "const MAX_PAYLOAD_SIZE = 100 * 1024;\n",
              "\n",
              "function _uploadFiles(inputId, outputId) {\n",
              "  const steps = uploadFilesStep(inputId, outputId);\n",
              "  const outputElement = document.getElementById(outputId);\n",
              "  // Cache steps on the outputElement to make it available for the next call\n",
              "  // to uploadFilesContinue from Python.\n",
              "  outputElement.steps = steps;\n",
              "\n",
              "  return _uploadFilesContinue(outputId);\n",
              "}\n",
              "\n",
              "// This is roughly an async generator (not supported in the browser yet),\n",
              "// where there are multiple asynchronous steps and the Python side is going\n",
              "// to poll for completion of each step.\n",
              "// This uses a Promise to block the python side on completion of each step,\n",
              "// then passes the result of the previous step as the input to the next step.\n",
              "function _uploadFilesContinue(outputId) {\n",
              "  const outputElement = document.getElementById(outputId);\n",
              "  const steps = outputElement.steps;\n",
              "\n",
              "  const next = steps.next(outputElement.lastPromiseValue);\n",
              "  return Promise.resolve(next.value.promise).then((value) => {\n",
              "    // Cache the last promise value to make it available to the next\n",
              "    // step of the generator.\n",
              "    outputElement.lastPromiseValue = value;\n",
              "    return next.value.response;\n",
              "  });\n",
              "}\n",
              "\n",
              "/**\n",
              " * Generator function which is called between each async step of the upload\n",
              " * process.\n",
              " * @param {string} inputId Element ID of the input file picker element.\n",
              " * @param {string} outputId Element ID of the output display.\n",
              " * @return {!Iterable<!Object>} Iterable of next steps.\n",
              " */\n",
              "function* uploadFilesStep(inputId, outputId) {\n",
              "  const inputElement = document.getElementById(inputId);\n",
              "  inputElement.disabled = false;\n",
              "\n",
              "  const outputElement = document.getElementById(outputId);\n",
              "  outputElement.innerHTML = '';\n",
              "\n",
              "  const pickedPromise = new Promise((resolve) => {\n",
              "    inputElement.addEventListener('change', (e) => {\n",
              "      resolve(e.target.files);\n",
              "    });\n",
              "  });\n",
              "\n",
              "  const cancel = document.createElement('button');\n",
              "  inputElement.parentElement.appendChild(cancel);\n",
              "  cancel.textContent = 'Cancel upload';\n",
              "  const cancelPromise = new Promise((resolve) => {\n",
              "    cancel.onclick = () => {\n",
              "      resolve(null);\n",
              "    };\n",
              "  });\n",
              "\n",
              "  // Wait for the user to pick the files.\n",
              "  const files = yield {\n",
              "    promise: Promise.race([pickedPromise, cancelPromise]),\n",
              "    response: {\n",
              "      action: 'starting',\n",
              "    }\n",
              "  };\n",
              "\n",
              "  cancel.remove();\n",
              "\n",
              "  // Disable the input element since further picks are not allowed.\n",
              "  inputElement.disabled = true;\n",
              "\n",
              "  if (!files) {\n",
              "    return {\n",
              "      response: {\n",
              "        action: 'complete',\n",
              "      }\n",
              "    };\n",
              "  }\n",
              "\n",
              "  for (const file of files) {\n",
              "    const li = document.createElement('li');\n",
              "    li.append(span(file.name, {fontWeight: 'bold'}));\n",
              "    li.append(span(\n",
              "        `(${file.type || 'n/a'}) - ${file.size} bytes, ` +\n",
              "        `last modified: ${\n",
              "            file.lastModifiedDate ? file.lastModifiedDate.toLocaleDateString() :\n",
              "                                    'n/a'} - `));\n",
              "    const percent = span('0% done');\n",
              "    li.appendChild(percent);\n",
              "\n",
              "    outputElement.appendChild(li);\n",
              "\n",
              "    const fileDataPromise = new Promise((resolve) => {\n",
              "      const reader = new FileReader();\n",
              "      reader.onload = (e) => {\n",
              "        resolve(e.target.result);\n",
              "      };\n",
              "      reader.readAsArrayBuffer(file);\n",
              "    });\n",
              "    // Wait for the data to be ready.\n",
              "    let fileData = yield {\n",
              "      promise: fileDataPromise,\n",
              "      response: {\n",
              "        action: 'continue',\n",
              "      }\n",
              "    };\n",
              "\n",
              "    // Use a chunked sending to avoid message size limits. See b/62115660.\n",
              "    let position = 0;\n",
              "    do {\n",
              "      const length = Math.min(fileData.byteLength - position, MAX_PAYLOAD_SIZE);\n",
              "      const chunk = new Uint8Array(fileData, position, length);\n",
              "      position += length;\n",
              "\n",
              "      const base64 = btoa(String.fromCharCode.apply(null, chunk));\n",
              "      yield {\n",
              "        response: {\n",
              "          action: 'append',\n",
              "          file: file.name,\n",
              "          data: base64,\n",
              "        },\n",
              "      };\n",
              "\n",
              "      let percentDone = fileData.byteLength === 0 ?\n",
              "          100 :\n",
              "          Math.round((position / fileData.byteLength) * 100);\n",
              "      percent.textContent = `${percentDone}% done`;\n",
              "\n",
              "    } while (position < fileData.byteLength);\n",
              "  }\n",
              "\n",
              "  // All done.\n",
              "  yield {\n",
              "    response: {\n",
              "      action: 'complete',\n",
              "    }\n",
              "  };\n",
              "}\n",
              "\n",
              "scope.google = scope.google || {};\n",
              "scope.google.colab = scope.google.colab || {};\n",
              "scope.google.colab._files = {\n",
              "  _uploadFiles,\n",
              "  _uploadFilesContinue,\n",
              "};\n",
              "})(self);\n",
              "</script> "
            ],
            "text/plain": [
              "<IPython.core.display.HTML object>"
            ]
          },
          "metadata": {},
          "output_type": "display_data"
        },
        {
          "name": "stdout",
          "output_type": "stream",
          "text": [
            "Saving credentials.json to credentials.json\n"
          ]
        }
      ],
      "source": [
        "from google.colab import files\n",
        "uploaded = files.upload()"
      ]
    },
    {
      "cell_type": "markdown",
      "metadata": {
        "id": "N50w4mcB8E6P"
      },
      "source": [
        "## 📚 분석할 책 목록 정의\n",
        "- 책 제목과 저자 이름을 리스트 형식으로 입력합니다.\n",
        "- 여러 권 입력 가능"
      ]
    },
    {
      "cell_type": "code",
      "execution_count": null,
      "metadata": {
        "id": "azqAI7n58E6P"
      },
      "outputs": [],
      "source": [
        "# Step 1. 구글 시트 연동 (credentials.json 필요)\n",
        "import gspread\n",
        "from oauth2client.service_account import ServiceAccountCredentials\n",
        "import pandas as pd\n",
        "\n",
        "scope = [\"https://spreadsheets.google.com/feeds\", \"https://www.googleapis.com/auth/drive\"]\n",
        "creds = ServiceAccountCredentials.from_json_keyfile_name(\"credentials.json\", scope)\n",
        "gc = gspread.authorize(creds)\n",
        "\n",
        "# Step 2. 시트 열기 및 Sheet2 가져오기\n",
        "sheet = gc.open(\"AI_Questions_Dataset\")\n",
        "human_sheet = sheet.worksheet(\"Sheet2\")\n",
        "human_data = pd.DataFrame(human_sheet.get_all_records())\n",
        "\n"
      ]
    },
    {
      "cell_type": "code",
      "execution_count": null,
      "metadata": {
        "colab": {
          "base_uri": "https://localhost:8080/"
        },
        "id": "JuQMRzwNt6Xm",
        "outputId": "7e2d0058-38aa-434c-e2a6-540cb22b82c7"
      },
      "outputs": [
        {
          "name": "stdout",
          "output_type": "stream",
          "text": [
            "{'title': 'The Lemonade War', 'author': 'Jacqueline Davies'} → 질문 수: 22\n",
            "{'title': 'The Lemonade Crime', 'author': 'Jacqueline Davies'} → 질문 수: 22\n",
            "{'title': 'A Boy Called Christmas', 'author': 'Matt Haig'} → 질문 수: 22\n",
            "{'title': 'A Year Down Yonder', 'author': 'Richard Peck'} → 질문 수: 22\n",
            "{'title': 'Bridge to Terabitha', 'author': 'Katherine Paterson'} → 질문 수: 22\n",
            "{'title': 'Holes', 'author': 'Louis Sachar'} → 질문 수: 21\n",
            "{'title': 'Holes', 'author': 'Lynne Reid Banks'} → 질문 수: 1\n",
            "{'title': 'The Indian in the Cupboard', 'author': 'Lynne Reid Banks'} → 질문 수: 21\n",
            "{'title': 'The Indian in the Cupboard', 'author': 'Kate DiCamillo'} → 질문 수: 1\n",
            "{'title': 'The Tale of Despereaux', 'author': 'Kate DiCamillo'} → 질문 수: 21\n",
            "{'title': 'The Tale of Despereaux', 'author': 'E.B. White'} → 질문 수: 1\n",
            "{'title': \"Charlotte's Web\", 'author': 'E.B. White'} → 질문 수: 21\n",
            "{'title': \"Charlotte's Web\", 'author': 'Linda Sue Park'} → 질문 수: 1\n",
            "{'title': 'A Long Walk to Water', 'author': 'Linda Sue Park'} → 질문 수: 22\n",
            "{'title': 'Summer of the Monkeys', 'author': 'Wilson Rawls'} → 질문 수: 22\n",
            "{'title': \"The Magician's Elephant\", 'author': 'Kate DiCamillo'} → 질문 수: 22\n",
            "{'title': 'Refugee', 'author': 'Alan Gratz'} → 질문 수: 22\n",
            "{'title': \"A Rover's Story\", 'author': 'Jasmine Warga'} → 질문 수: 22\n",
            "{'title': 'Otherwise Known as Sheila the Great', 'author': 'Judy Blume'} → 질문 수: 22\n",
            "{'title': 'Tales of a Fourth Grade Nothing', 'author': 'Judy Blume'} → 질문 수: 22\n",
            "{'title': 'King and the Dragonflies', 'author': 'Kacen Callender'} → 질문 수: 22\n",
            "{'title': 'Ghost', 'author': 'Jason Reynolds'} → 질문 수: 22\n",
            "{'title': 'Dear Mr. Henshaw', 'author': 'Beverly Cleary'} → 질문 수: 22\n",
            "{'title': 'The Retake', 'author': 'Jen Calonita'} → 질문 수: 22\n",
            "{'title': 'Three Times Lucky', 'author': 'Sheila Turnage'} → 질문 수: 22\n",
            "{'title': 'Bob', 'author': 'Wendy Mass & Rebecca Stead'} → 질문 수: 22\n",
            "{'title': 'Dragons in a Bag', 'author': 'Zetta Elliott'} → 질문 수: 22\n"
          ]
        }
      ],
      "source": [
        "# 질문이 비어 있지 않은 경우만 필터링\n",
        "filtered_human_data = human_data[human_data['question'].str.strip() != '']\n",
        "\n",
        "# 질문이 있는 책들만 추출\n",
        "unique_books = filtered_human_data[['book_title', 'author']].drop_duplicates()\n",
        "books = unique_books.rename(columns={\"book_title\": \"title\"}).to_dict(orient=\"records\")\n",
        "\n",
        "# 질문 수 사전 생성\n",
        "book_counts = filtered_human_data.groupby([\"book_title\", \"author\"]).size().reset_index(name=\"count\")\n",
        "book_to_count = {\n",
        "    (row[\"book_title\"], row[\"author\"]): row[\"count\"]\n",
        "    for _, row in book_counts.iterrows()\n",
        "}\n",
        "\n",
        "# 결과 확인\n",
        "for book in books:\n",
        "    key = (book[\"title\"], book[\"author\"])\n",
        "    print(f\"{book} → 질문 수: {book_to_count.get(key)}\")\n"
      ]
    },
    {
      "cell_type": "markdown",
      "metadata": {
        "id": "GMFJ_91E8E6P"
      },
      "source": [
        "## ✨ GPT-3.5를 사용한 질문 생성 함수\n",
        "- 에세이형, 비판적 사고 기반 질문 22개 생성\n",
        "- 1~22번 형식으로 출력된 질문만 추출"
      ]
    },
    {
      "cell_type": "code",
      "execution_count": null,
      "metadata": {
        "id": "ob2I0s_NyIB1"
      },
      "outputs": [],
      "source": [
        "# Step 4. 질문 수 가져오기\n",
        "book_counts = filtered_human_data.groupby([\"book_title\", \"author\"]).size().reset_index(name=\"count\")\n",
        "book_to_count = {\n",
        "    (row[\"book_title\"], row[\"author\"]): row[\"count\"]\n",
        "    for _, row in book_counts.iterrows()\n",
        "}"
      ]
    },
    {
      "cell_type": "code",
      "execution_count": 52,
      "metadata": {
        "id": "UBEv_gkbyEVn"
      },
      "outputs": [],
      "source": [
        "# Step 5. AI 질문 생성 함수\n",
        "def generate_questions(book, num_questions):\n",
        "    prompt = f\"\"\"\n",
        "You are an experienced educator designing {num_questions} open-ended, essay-style discussion questions for upper elementary and middle school students (grades 4–8).\n",
        "\n",
        "The questions should be based on the book \\\"{book['title']}\\\" by {book['author']} and serve the following purposes:\n",
        "- Encourage students to empathize with characters and reflect on how they would feel in similar situations.\n",
        "- Help students explore and interpret key themes and challenges faced by characters.\n",
        "- Connect the story’s events and messages to real-world issues or social experiences relevant to students.\n",
        "- Promote personal reflection by inviting students to relate the characters’ emotions and dilemmas to their own lives. Format:\n",
        "1. ...\n",
        "2. ...\n",
        "...\n",
        "{num_questions}. ...\n",
        "\"\"\"\n",
        "    try:\n",
        "        response = client.chat.completions.create(\n",
        "            model=\"gpt-3.5-turbo\",\n",
        "            messages=[{\"role\": \"user\", \"content\": prompt}],\n",
        "            temperature=0.7\n",
        "        )\n",
        "        content = response.choices[0].message.content\n",
        "        return [line.strip()[3:].strip() for line in content.split('\\n') if line.strip().startswith(tuple(\"123456789\"))]\n",
        "    except Exception as e:\n",
        "        print(f\"⚠️ 오류 발생 for {book['title']}: {e}\")\n",
        "        return []"
      ]
    },
    {
      "cell_type": "markdown",
      "metadata": {
        "id": "-XOZxTJK8E6P"
      },
      "source": [
        "## 📊 질문 생성 및 DataFrame 저장 & 📤 Google Sheets에 자동 업로드\n",
        "- pandas DataFrame으로 정리하고 csv로 저장"
      ]
    },
    {
      "cell_type": "code",
      "execution_count": 53,
      "metadata": {
        "id": "u20aQZcyyYTP"
      },
      "outputs": [],
      "source": [
        "# ✅ 질문 생성 및 저장\n",
        "all_ai_questions = []\n",
        "\n",
        "for book in books:\n",
        "    key = (book[\"title\"], book[\"author\"])\n",
        "    num_q = book_to_count.get(key, 0)\n",
        "\n",
        "    if num_q == 0:\n",
        "        print(f\"❗ '{book['title']}'에 대한 사람이 만든 질문이 없어 건너뜀\")\n",
        "        continue\n",
        "\n",
        "    qlist = generate_questions(book, num_q)\n",
        "\n",
        "    for i, q in enumerate(qlist):\n",
        "        all_ai_questions.append({\n",
        "            \"book_title\": book[\"title\"],\n",
        "            \"author\": book[\"author\"],\n",
        "            \"question_number\": i + 1,\n",
        "            \"question\": q,\n",
        "            \"length\": len(q),\n",
        "            \"source\": \"AI\"\n",
        "        })\n"
      ]
    },
    {
      "cell_type": "markdown",
      "metadata": {
        "id": "nh9REnXL3gMr"
      },
      "source": [
        "## 📤 DataFrame 저장 &  Google Sheets에 자동 업로드\n",
        "- pandas DataFrame으로 정리하고 csv로 저장"
      ]
    },
    {
      "cell_type": "code",
      "execution_count": 54,
      "metadata": {
        "colab": {
          "base_uri": "https://localhost:8080/"
        },
        "id": "NK_Xc7nR3QiS",
        "outputId": "8773171c-ae2b-46fc-a90b-c78930d10801"
      },
      "outputs": [
        {
          "name": "stdout",
          "output_type": "stream",
          "text": [
            "✅ Google Sheets 업로드 완료\n"
          ]
        }
      ],
      "source": [
        "# 1. AI 질문 리스트 → DataFrame 변환\n",
        "df_ai = pd.DataFrame(all_ai_questions)\n",
        "\n",
        "\n",
        "# 2. Sheet1 덮어쓰기 방식으로 Google Sheets에 저장\n",
        "try:\n",
        "    sheet.del_worksheet(sheet.worksheet(\"Sheet1\"))\n",
        "except:\n",
        "    pass\n",
        "sheet.add_worksheet(title=\"Sheet1\", rows=\"1000\", cols=\"10\")\n",
        "ai_sheet = sheet.worksheet(\"Sheet1\")\n",
        "ai_sheet.update([df_ai.columns.values.tolist()] + df_ai.values.tolist())\n",
        "print(\"✅ Google Sheets 업로드 완료\")\n"
      ]
    },
    {
      "cell_type": "code",
      "execution_count": 45,
      "metadata": {
        "colab": {
          "base_uri": "https://localhost:8080/",
          "height": 293
        },
        "id": "-TaFvx9x3FU1",
        "outputId": "75c086a1-4924-485e-ca8c-ead14a0e56f5"
      },
      "outputs": [
        {
          "data": {
            "application/vnd.google.colaboratory.intrinsic+json": {
              "summary": "{\n  \"name\": \"df_ai\",\n  \"rows\": 507,\n  \"fields\": [\n    {\n      \"column\": \"book_title\",\n      \"properties\": {\n        \"dtype\": \"category\",\n        \"num_unique_values\": 23,\n        \"samples\": [\n          \"Tales of a Fourth Grade Nothing\",\n          \"A Long Walk to Water\",\n          \"The Lemonade War\"\n        ],\n        \"semantic_type\": \"\",\n        \"description\": \"\"\n      }\n    },\n    {\n      \"column\": \"author\",\n      \"properties\": {\n        \"dtype\": \"category\",\n        \"num_unique_values\": 20,\n        \"samples\": [\n          \"Jacqueline Davies\",\n          \"Sheila Turnage\",\n          \"Beverly Cleary\"\n        ],\n        \"semantic_type\": \"\",\n        \"description\": \"\"\n      }\n    },\n    {\n      \"column\": \"question_number\",\n      \"properties\": {\n        \"dtype\": \"number\",\n        \"std\": 6,\n        \"min\": 1,\n        \"max\": 22,\n        \"num_unique_values\": 22,\n        \"samples\": [\n          1,\n          14,\n          9\n        ],\n        \"semantic_type\": \"\",\n        \"description\": \"\"\n      }\n    },\n    {\n      \"column\": \"question\",\n      \"properties\": {\n        \"dtype\": \"string\",\n        \"num_unique_values\": 500,\n        \"samples\": [\n          \"How does King's friendship with Fonda and the bond they share help you understand the importance of having supportive and understanding friends?\",\n          \"How does Grandma Dowdel's resilience and resourcefulness inspire Mary Alice to face her own challenges with courage and creativity? Have you ever looked up to someone who showed strength and determination in the face of adversity? How did they motivate you to do the same?\",\n          \"In what ways do you see yourself in King's resilience and strength, particularly in his ability to overcome adversity and find peace within himself?\"\n        ],\n        \"semantic_type\": \"\",\n        \"description\": \"\"\n      }\n    },\n    {\n      \"column\": \"length\",\n      \"properties\": {\n        \"dtype\": \"number\",\n        \"std\": 50,\n        \"min\": 76,\n        \"max\": 410,\n        \"num_unique_values\": 175,\n        \"samples\": [\n          169,\n          217,\n          97\n        ],\n        \"semantic_type\": \"\",\n        \"description\": \"\"\n      }\n    },\n    {\n      \"column\": \"source\",\n      \"properties\": {\n        \"dtype\": \"category\",\n        \"num_unique_values\": 1,\n        \"samples\": [\n          \"AI\"\n        ],\n        \"semantic_type\": \"\",\n        \"description\": \"\"\n      }\n    }\n  ]\n}",
              "type": "dataframe",
              "variable_name": "df_ai"
            },
            "text/html": [
              "\n",
              "  <div id=\"df-95ff2fbd-c9f9-43da-9a34-b6e616343b0d\" class=\"colab-df-container\">\n",
              "    <div>\n",
              "<style scoped>\n",
              "    .dataframe tbody tr th:only-of-type {\n",
              "        vertical-align: middle;\n",
              "    }\n",
              "\n",
              "    .dataframe tbody tr th {\n",
              "        vertical-align: top;\n",
              "    }\n",
              "\n",
              "    .dataframe thead th {\n",
              "        text-align: right;\n",
              "    }\n",
              "</style>\n",
              "<table border=\"1\" class=\"dataframe\">\n",
              "  <thead>\n",
              "    <tr style=\"text-align: right;\">\n",
              "      <th></th>\n",
              "      <th>book_title</th>\n",
              "      <th>author</th>\n",
              "      <th>question_number</th>\n",
              "      <th>question</th>\n",
              "      <th>length</th>\n",
              "      <th>source</th>\n",
              "    </tr>\n",
              "  </thead>\n",
              "  <tbody>\n",
              "    <tr>\n",
              "      <th>0</th>\n",
              "      <td>The Lemonade War</td>\n",
              "      <td>Jacqueline Davies</td>\n",
              "      <td>1</td>\n",
              "      <td>Have you ever felt jealous of a sibling or fri...</td>\n",
              "      <td>161</td>\n",
              "      <td>AI</td>\n",
              "    </tr>\n",
              "    <tr>\n",
              "      <th>1</th>\n",
              "      <td>The Lemonade War</td>\n",
              "      <td>Jacqueline Davies</td>\n",
              "      <td>2</td>\n",
              "      <td>Do you think it's fair for Evan to use his mat...</td>\n",
              "      <td>173</td>\n",
              "      <td>AI</td>\n",
              "    </tr>\n",
              "    <tr>\n",
              "      <th>2</th>\n",
              "      <td>The Lemonade War</td>\n",
              "      <td>Jacqueline Davies</td>\n",
              "      <td>3</td>\n",
              "      <td>How do you think Jessie's fear of failing in s...</td>\n",
              "      <td>147</td>\n",
              "      <td>AI</td>\n",
              "    </tr>\n",
              "    <tr>\n",
              "      <th>3</th>\n",
              "      <td>The Lemonade War</td>\n",
              "      <td>Jacqueline Davies</td>\n",
              "      <td>4</td>\n",
              "      <td>In what ways do Jessie and Evan's different pe...</td>\n",
              "      <td>204</td>\n",
              "      <td>AI</td>\n",
              "    </tr>\n",
              "    <tr>\n",
              "      <th>4</th>\n",
              "      <td>The Lemonade War</td>\n",
              "      <td>Jacqueline Davies</td>\n",
              "      <td>5</td>\n",
              "      <td>How does the competition between Jessie and Ev...</td>\n",
              "      <td>164</td>\n",
              "      <td>AI</td>\n",
              "    </tr>\n",
              "  </tbody>\n",
              "</table>\n",
              "</div>\n",
              "    <div class=\"colab-df-buttons\">\n",
              "\n",
              "  <div class=\"colab-df-container\">\n",
              "    <button class=\"colab-df-convert\" onclick=\"convertToInteractive('df-95ff2fbd-c9f9-43da-9a34-b6e616343b0d')\"\n",
              "            title=\"Convert this dataframe to an interactive table.\"\n",
              "            style=\"display:none;\">\n",
              "\n",
              "  <svg xmlns=\"http://www.w3.org/2000/svg\" height=\"24px\" viewBox=\"0 -960 960 960\">\n",
              "    <path d=\"M120-120v-720h720v720H120Zm60-500h600v-160H180v160Zm220 220h160v-160H400v160Zm0 220h160v-160H400v160ZM180-400h160v-160H180v160Zm440 0h160v-160H620v160ZM180-180h160v-160H180v160Zm440 0h160v-160H620v160Z\"/>\n",
              "  </svg>\n",
              "    </button>\n",
              "\n",
              "  <style>\n",
              "    .colab-df-container {\n",
              "      display:flex;\n",
              "      gap: 12px;\n",
              "    }\n",
              "\n",
              "    .colab-df-convert {\n",
              "      background-color: #E8F0FE;\n",
              "      border: none;\n",
              "      border-radius: 50%;\n",
              "      cursor: pointer;\n",
              "      display: none;\n",
              "      fill: #1967D2;\n",
              "      height: 32px;\n",
              "      padding: 0 0 0 0;\n",
              "      width: 32px;\n",
              "    }\n",
              "\n",
              "    .colab-df-convert:hover {\n",
              "      background-color: #E2EBFA;\n",
              "      box-shadow: 0px 1px 2px rgba(60, 64, 67, 0.3), 0px 1px 3px 1px rgba(60, 64, 67, 0.15);\n",
              "      fill: #174EA6;\n",
              "    }\n",
              "\n",
              "    .colab-df-buttons div {\n",
              "      margin-bottom: 4px;\n",
              "    }\n",
              "\n",
              "    [theme=dark] .colab-df-convert {\n",
              "      background-color: #3B4455;\n",
              "      fill: #D2E3FC;\n",
              "    }\n",
              "\n",
              "    [theme=dark] .colab-df-convert:hover {\n",
              "      background-color: #434B5C;\n",
              "      box-shadow: 0px 1px 3px 1px rgba(0, 0, 0, 0.15);\n",
              "      filter: drop-shadow(0px 1px 2px rgba(0, 0, 0, 0.3));\n",
              "      fill: #FFFFFF;\n",
              "    }\n",
              "  </style>\n",
              "\n",
              "    <script>\n",
              "      const buttonEl =\n",
              "        document.querySelector('#df-95ff2fbd-c9f9-43da-9a34-b6e616343b0d button.colab-df-convert');\n",
              "      buttonEl.style.display =\n",
              "        google.colab.kernel.accessAllowed ? 'block' : 'none';\n",
              "\n",
              "      async function convertToInteractive(key) {\n",
              "        const element = document.querySelector('#df-95ff2fbd-c9f9-43da-9a34-b6e616343b0d');\n",
              "        const dataTable =\n",
              "          await google.colab.kernel.invokeFunction('convertToInteractive',\n",
              "                                                    [key], {});\n",
              "        if (!dataTable) return;\n",
              "\n",
              "        const docLinkHtml = 'Like what you see? Visit the ' +\n",
              "          '<a target=\"_blank\" href=https://colab.research.google.com/notebooks/data_table.ipynb>data table notebook</a>'\n",
              "          + ' to learn more about interactive tables.';\n",
              "        element.innerHTML = '';\n",
              "        dataTable['output_type'] = 'display_data';\n",
              "        await google.colab.output.renderOutput(dataTable, element);\n",
              "        const docLink = document.createElement('div');\n",
              "        docLink.innerHTML = docLinkHtml;\n",
              "        element.appendChild(docLink);\n",
              "      }\n",
              "    </script>\n",
              "  </div>\n",
              "\n",
              "\n",
              "    <div id=\"df-defa0ea3-a885-439e-b3b6-42770d258a0c\">\n",
              "      <button class=\"colab-df-quickchart\" onclick=\"quickchart('df-defa0ea3-a885-439e-b3b6-42770d258a0c')\"\n",
              "                title=\"Suggest charts\"\n",
              "                style=\"display:none;\">\n",
              "\n",
              "<svg xmlns=\"http://www.w3.org/2000/svg\" height=\"24px\"viewBox=\"0 0 24 24\"\n",
              "     width=\"24px\">\n",
              "    <g>\n",
              "        <path d=\"M19 3H5c-1.1 0-2 .9-2 2v14c0 1.1.9 2 2 2h14c1.1 0 2-.9 2-2V5c0-1.1-.9-2-2-2zM9 17H7v-7h2v7zm4 0h-2V7h2v10zm4 0h-2v-4h2v4z\"/>\n",
              "    </g>\n",
              "</svg>\n",
              "      </button>\n",
              "\n",
              "<style>\n",
              "  .colab-df-quickchart {\n",
              "      --bg-color: #E8F0FE;\n",
              "      --fill-color: #1967D2;\n",
              "      --hover-bg-color: #E2EBFA;\n",
              "      --hover-fill-color: #174EA6;\n",
              "      --disabled-fill-color: #AAA;\n",
              "      --disabled-bg-color: #DDD;\n",
              "  }\n",
              "\n",
              "  [theme=dark] .colab-df-quickchart {\n",
              "      --bg-color: #3B4455;\n",
              "      --fill-color: #D2E3FC;\n",
              "      --hover-bg-color: #434B5C;\n",
              "      --hover-fill-color: #FFFFFF;\n",
              "      --disabled-bg-color: #3B4455;\n",
              "      --disabled-fill-color: #666;\n",
              "  }\n",
              "\n",
              "  .colab-df-quickchart {\n",
              "    background-color: var(--bg-color);\n",
              "    border: none;\n",
              "    border-radius: 50%;\n",
              "    cursor: pointer;\n",
              "    display: none;\n",
              "    fill: var(--fill-color);\n",
              "    height: 32px;\n",
              "    padding: 0;\n",
              "    width: 32px;\n",
              "  }\n",
              "\n",
              "  .colab-df-quickchart:hover {\n",
              "    background-color: var(--hover-bg-color);\n",
              "    box-shadow: 0 1px 2px rgba(60, 64, 67, 0.3), 0 1px 3px 1px rgba(60, 64, 67, 0.15);\n",
              "    fill: var(--button-hover-fill-color);\n",
              "  }\n",
              "\n",
              "  .colab-df-quickchart-complete:disabled,\n",
              "  .colab-df-quickchart-complete:disabled:hover {\n",
              "    background-color: var(--disabled-bg-color);\n",
              "    fill: var(--disabled-fill-color);\n",
              "    box-shadow: none;\n",
              "  }\n",
              "\n",
              "  .colab-df-spinner {\n",
              "    border: 2px solid var(--fill-color);\n",
              "    border-color: transparent;\n",
              "    border-bottom-color: var(--fill-color);\n",
              "    animation:\n",
              "      spin 1s steps(1) infinite;\n",
              "  }\n",
              "\n",
              "  @keyframes spin {\n",
              "    0% {\n",
              "      border-color: transparent;\n",
              "      border-bottom-color: var(--fill-color);\n",
              "      border-left-color: var(--fill-color);\n",
              "    }\n",
              "    20% {\n",
              "      border-color: transparent;\n",
              "      border-left-color: var(--fill-color);\n",
              "      border-top-color: var(--fill-color);\n",
              "    }\n",
              "    30% {\n",
              "      border-color: transparent;\n",
              "      border-left-color: var(--fill-color);\n",
              "      border-top-color: var(--fill-color);\n",
              "      border-right-color: var(--fill-color);\n",
              "    }\n",
              "    40% {\n",
              "      border-color: transparent;\n",
              "      border-right-color: var(--fill-color);\n",
              "      border-top-color: var(--fill-color);\n",
              "    }\n",
              "    60% {\n",
              "      border-color: transparent;\n",
              "      border-right-color: var(--fill-color);\n",
              "    }\n",
              "    80% {\n",
              "      border-color: transparent;\n",
              "      border-right-color: var(--fill-color);\n",
              "      border-bottom-color: var(--fill-color);\n",
              "    }\n",
              "    90% {\n",
              "      border-color: transparent;\n",
              "      border-bottom-color: var(--fill-color);\n",
              "    }\n",
              "  }\n",
              "</style>\n",
              "\n",
              "      <script>\n",
              "        async function quickchart(key) {\n",
              "          const quickchartButtonEl =\n",
              "            document.querySelector('#' + key + ' button');\n",
              "          quickchartButtonEl.disabled = true;  // To prevent multiple clicks.\n",
              "          quickchartButtonEl.classList.add('colab-df-spinner');\n",
              "          try {\n",
              "            const charts = await google.colab.kernel.invokeFunction(\n",
              "                'suggestCharts', [key], {});\n",
              "          } catch (error) {\n",
              "            console.error('Error during call to suggestCharts:', error);\n",
              "          }\n",
              "          quickchartButtonEl.classList.remove('colab-df-spinner');\n",
              "          quickchartButtonEl.classList.add('colab-df-quickchart-complete');\n",
              "        }\n",
              "        (() => {\n",
              "          let quickchartButtonEl =\n",
              "            document.querySelector('#df-defa0ea3-a885-439e-b3b6-42770d258a0c button');\n",
              "          quickchartButtonEl.style.display =\n",
              "            google.colab.kernel.accessAllowed ? 'block' : 'none';\n",
              "        })();\n",
              "      </script>\n",
              "    </div>\n",
              "\n",
              "    </div>\n",
              "  </div>\n"
            ],
            "text/plain": [
              "         book_title             author  question_number  \\\n",
              "0  The Lemonade War  Jacqueline Davies                1   \n",
              "1  The Lemonade War  Jacqueline Davies                2   \n",
              "2  The Lemonade War  Jacqueline Davies                3   \n",
              "3  The Lemonade War  Jacqueline Davies                4   \n",
              "4  The Lemonade War  Jacqueline Davies                5   \n",
              "\n",
              "                                            question  length source  \n",
              "0  Have you ever felt jealous of a sibling or fri...     161     AI  \n",
              "1  Do you think it's fair for Evan to use his mat...     173     AI  \n",
              "2  How do you think Jessie's fear of failing in s...     147     AI  \n",
              "3  In what ways do Jessie and Evan's different pe...     204     AI  \n",
              "4  How does the competition between Jessie and Ev...     164     AI  "
            ]
          },
          "execution_count": 45,
          "metadata": {},
          "output_type": "execute_result"
        }
      ],
      "source": [
        "# 3. CSV 파일로도 병렬 저장 (백업 + 분석용)\n",
        "df_ai.to_csv(\"ai_questions.csv\", index=False)\n",
        "df_ai.head()"
      ]
    },
    {
      "cell_type": "markdown",
      "metadata": {
        "id": "rny6QcoK_gpY"
      },
      "source": [
        "# 🤖 vs 👤 AI 질문 vs 인간 질문 분석 노트북\n",
        "\n",
        "이 노트북은 Google Sheets에 있는 Sheet1(AI 질문), Sheet2(인간 질문)을 기반으로 다음 항목을 비교 분석합니다:\n",
        "\n",
        "- 문장 길이 평균, 단어 수, Type-Token Ratio\n",
        "- 가독성 점수 (Flesch, Gunning Fog)\n",
        "- Lexical 다양성 (hapax legomena 비율)\n",
        "- SBERT 임베딩 → UMAP/t-SNE 시각화\n",
        "\n",
        "✅ 사전 요구사항:\n",
        "- Sheet1, Sheet2가 같은 구조로 되어 있어야 함 (book_title, author, question_number, question, length, source)"
      ]
    },
    {
      "cell_type": "code",
      "execution_count": null,
      "metadata": {
        "colab": {
          "base_uri": "https://localhost:8080/"
        },
        "id": "TC0dpjCx_gpZ",
        "outputId": "14e04e3e-be40-4e5c-89cb-ebe74491760f"
      },
      "outputs": [
        {
          "name": "stdout",
          "output_type": "stream",
          "text": [
            "\u001b[2K   \u001b[90m━━━━━━━━━━━━━━━━━━━━━━━━━━━━━━━━━━━━━━━━\u001b[0m \u001b[32m175.3/175.3 kB\u001b[0m \u001b[31m12.3 MB/s\u001b[0m eta \u001b[36m0:00:00\u001b[0m\n",
            "\u001b[2K   \u001b[90m━━━━━━━━━━━━━━━━━━━━━━━━━━━━━━━━━━━━━━━━\u001b[0m \u001b[32m363.4/363.4 MB\u001b[0m \u001b[31m1.5 MB/s\u001b[0m eta \u001b[36m0:00:00\u001b[0m\n",
            "\u001b[2K   \u001b[90m━━━━━━━━━━━━━━━━━━━━━━━━━━━━━━━━━━━━━━━━\u001b[0m \u001b[32m13.8/13.8 MB\u001b[0m \u001b[31m76.5 MB/s\u001b[0m eta \u001b[36m0:00:00\u001b[0m\n",
            "\u001b[2K   \u001b[90m━━━━━━━━━━━━━━━━━━━━━━━━━━━━━━━━━━━━━━━━\u001b[0m \u001b[32m24.6/24.6 MB\u001b[0m \u001b[31m59.2 MB/s\u001b[0m eta \u001b[36m0:00:00\u001b[0m\n",
            "\u001b[2K   \u001b[90m━━━━━━━━━━━━━━━━━━━━━━━━━━━━━━━━━━━━━━━━\u001b[0m \u001b[32m883.7/883.7 kB\u001b[0m \u001b[31m38.0 MB/s\u001b[0m eta \u001b[36m0:00:00\u001b[0m\n",
            "\u001b[2K   \u001b[90m━━━━━━━━━━━━━━━━━━━━━━━━━━━━━━━━━━━━━━━\u001b[0m \u001b[32m664.8/664.8 MB\u001b[0m \u001b[31m866.8 kB/s\u001b[0m eta \u001b[36m0:00:00\u001b[0m\n",
            "\u001b[2K   \u001b[90m━━━━━━━━━━━━━━━━━━━━━━━━━━━━━━━━━━━━━━━━\u001b[0m \u001b[32m211.5/211.5 MB\u001b[0m \u001b[31m4.8 MB/s\u001b[0m eta \u001b[36m0:00:00\u001b[0m\n",
            "\u001b[2K   \u001b[90m━━━━━━━━━━━━━━━━━━━━━━━━━━━━━━━━━━━━━━━━\u001b[0m \u001b[32m56.3/56.3 MB\u001b[0m \u001b[31m14.8 MB/s\u001b[0m eta \u001b[36m0:00:00\u001b[0m\n",
            "\u001b[2K   \u001b[90m━━━━━━━━━━━━━━━━━━━━━━━━━━━━━━━━━━━━━━━━\u001b[0m \u001b[32m127.9/127.9 MB\u001b[0m \u001b[31m7.6 MB/s\u001b[0m eta \u001b[36m0:00:00\u001b[0m\n",
            "\u001b[2K   \u001b[90m━━━━━━━━━━━━━━━━━━━━━━━━━━━━━━━━━━━━━━━━\u001b[0m \u001b[32m207.5/207.5 MB\u001b[0m \u001b[31m5.9 MB/s\u001b[0m eta \u001b[36m0:00:00\u001b[0m\n",
            "\u001b[2K   \u001b[90m━━━━━━━━━━━━━━━━━━━━━━━━━━━━━━━━━━━━━━━━\u001b[0m \u001b[32m21.1/21.1 MB\u001b[0m \u001b[31m86.1 MB/s\u001b[0m eta \u001b[36m0:00:00\u001b[0m\n",
            "\u001b[2K   \u001b[90m━━━━━━━━━━━━━━━━━━━━━━━━━━━━━━━━━━━━━━━━\u001b[0m \u001b[32m939.4/939.4 kB\u001b[0m \u001b[31m43.1 MB/s\u001b[0m eta \u001b[36m0:00:00\u001b[0m\n",
            "\u001b[2K   \u001b[90m━━━━━━━━━━━━━━━━━━━━━━━━━━━━━━━━━━━━━━━━\u001b[0m \u001b[32m2.1/2.1 MB\u001b[0m \u001b[31m69.1 MB/s\u001b[0m eta \u001b[36m0:00:00\u001b[0m\n",
            "\u001b[?25h"
          ]
        }
      ],
      "source": [
        "!pip install gspread oauth2client textstat sentence-transformers umap-learn matplotlib seaborn --quiet"
      ]
    },
    {
      "cell_type": "code",
      "execution_count": null,
      "metadata": {
        "id": "4A_kmZeF_gpZ"
      },
      "outputs": [],
      "source": [
        "import pandas as pd\n",
        "import gspread\n",
        "from oauth2client.service_account import ServiceAccountCredentials\n",
        "import textstat\n",
        "from collections import Counter\n",
        "import matplotlib.pyplot as plt\n",
        "import seaborn as sns\n",
        "from sentence_transformers import SentenceTransformer\n",
        "import umap\n",
        "from sklearn.preprocessing import LabelEncoder"
      ]
    },
    {
      "cell_type": "code",
      "execution_count": 55,
      "metadata": {
        "colab": {
          "base_uri": "https://localhost:8080/"
        },
        "id": "Hat5CXfL_gpa",
        "outputId": "74cc0c66-9194-4bb6-9b4d-d75875ffea51"
      },
      "outputs": [
        {
          "data": {
            "text/plain": [
              "{'spreadsheetId': '1LHF_0v3woLI7q2MBhryjcGjvPRnPfHCwah7NWeeUMcg',\n",
              " 'updatedRange': 'Sheet2!A1:F507',\n",
              " 'updatedRows': 507,\n",
              " 'updatedColumns': 6,\n",
              " 'updatedCells': 3042}"
            ]
          },
          "execution_count": 55,
          "metadata": {},
          "output_type": "execute_result"
        }
      ],
      "source": [
        "# ✅ Google Sheets 연동\n",
        "scope = [\"https://spreadsheets.google.com/feeds\", \"https://www.googleapis.com/auth/drive\"]\n",
        "creds = ServiceAccountCredentials.from_json_keyfile_name(\"credentials.json\", scope)\n",
        "gc = gspread.authorize(creds)\n",
        "\n",
        "sheet = gc.open(\"AI_Questions_Dataset\")\n",
        "ai_data = pd.DataFrame(sheet.worksheet(\"Sheet1\").get_all_records())\n",
        "human_sheet = sheet.worksheet(\"Sheet2\")\n",
        "human_data = pd.DataFrame(human_sheet.get_all_records())\n",
        "\n",
        "# 📌 Sheet2에 length 및 source 컬럼 자동 생성 및 업데이트\n",
        "human_data[\"length\"] = human_data[\"question\"].apply(len)\n",
        "human_data[\"source\"] = \"Human\"\n",
        "human_sheet.clear()\n",
        "human_sheet.update([human_data.columns.values.tolist()] + human_data.values.tolist())\n"
      ]
    },
    {
      "cell_type": "markdown",
      "metadata": {
        "id": "V-_AJ9rs_gpa"
      },
      "source": [
        "## 📊 언어 통계 분석 함수 정의\n",
        "- 문장 길이, 단어 수, TTR, 가독성, 희귀 단어 등"
      ]
    },
    {
      "cell_type": "code",
      "execution_count": 56,
      "metadata": {
        "colab": {
          "base_uri": "https://localhost:8080/"
        },
        "id": "96ujp2J_Buks",
        "outputId": "5b3d639f-a203-4ca0-b303-c09fa137c644"
      },
      "outputs": [
        {
          "name": "stderr",
          "output_type": "stream",
          "text": [
            "[nltk_data] Downloading package punkt to /root/nltk_data...\n",
            "[nltk_data]   Package punkt is already up-to-date!\n",
            "[nltk_data] Downloading package punkt_tab to /root/nltk_data...\n",
            "[nltk_data]   Package punkt_tab is already up-to-date!\n"
          ]
        }
      ],
      "source": [
        "import nltk\n",
        "from nltk.tokenize import word_tokenize\n",
        "import textstat\n",
        "from collections import Counter\n",
        "\n",
        "nltk.download('punkt')\n",
        "nltk.download('punkt_tab') # Add this line to download the required resource\n",
        "\n",
        "def analyze_text(text):\n",
        "    words = word_tokenize(text.lower())\n",
        "    tokens = [w for w in words if w.isalpha()]\n",
        "    total = len(tokens)\n",
        "    unique = len(set(tokens))\n",
        "    ttr = unique / total if total > 0 else 0\n",
        "    hapax = len([w for w, c in Counter(tokens).items() if c == 1]) / total if total > 0 else 0\n",
        "    return {\n",
        "        \"word_count\": total,\n",
        "        \"ttr\": round(ttr, 3),\n",
        "        \"hapax_ratio\": round(hapax, 3),\n",
        "        \"flesch\": textstat.flesch_reading_ease(text),\n",
        "        \"gunning_fog\": textstat.gunning_fog(text)\n",
        "    }"
      ]
    },
    {
      "cell_type": "code",
      "execution_count": 57,
      "metadata": {
        "id": "LhE64WWm_gpa"
      },
      "outputs": [],
      "source": [
        "# 분석 수행\n",
        "ai_stats = ai_data['question'].apply(analyze_text).apply(pd.Series)\n",
        "human_stats = human_data['question'].apply(analyze_text).apply(pd.Series)\n",
        "\n",
        "# Drop the original statistical columns from ai_data and human_data before concatenating the new stats\n",
        "ai_data = ai_data.drop(columns=['word_count', 'ttr', 'hapax_ratio', 'flesch', 'gunning_fog'], errors='ignore')\n",
        "human_data = human_data.drop(columns=['word_count', 'ttr', 'hapax_ratio', 'flesch', 'gunning_fog'], errors='ignore')\n",
        "\n",
        "\n",
        "ai_data = pd.concat([ai_data, ai_stats], axis=1)\n",
        "human_data = pd.concat([human_data, human_stats], axis=1)\n",
        "\n",
        "ai_data['label'] = 'AI'\n",
        "human_data['label'] = 'Human'\n",
        "\n",
        "# Reset the index of both dataframes before concatenating\n",
        "ai_data = ai_data.reset_index(drop=True)\n",
        "human_data = human_data.reset_index(drop=True)\n",
        "\n",
        "combined = pd.concat([ai_data, human_data])"
      ]
    },
    {
      "cell_type": "markdown",
      "metadata": {
        "id": "ahukk8Be_gpa"
      },
      "source": [
        "## 📉 기본 비교 시각화 (문장 길이, TTR, 가독성 등)\n",
        "\n",
        "이 분석에서는 AI 질문과 인간 질문 간의 **언어적 차이**를 시각화합니다.\n",
        "\n",
        "사용된 지표는 다음과 같습니다:\n",
        "- `word_count`: 문장의 총 단어 수\n",
        "- `ttr` (Type-Token Ratio): 단어 다양성 비율\n",
        "- `hapax_ratio`: 한 번만 등장한 희귀 단어 비율\n",
        "- `flesch`: Flesch 읽기 용이도 (높을수록 쉬운 문장)\n",
        "- `gunning_fog`: Gunning Fog 지수 (높을수록 난해한 문장)\n",
        "\n",
        "아래 박스플롯(Boxplot)은 각 지표별로 AI와 Human 질문의 분포를 비교합니다.\n"
      ]
    },
    {
      "cell_type": "code",
      "execution_count": 58,
      "metadata": {
        "colab": {
          "base_uri": "https://localhost:8080/",
          "height": 1000
        },
        "id": "GklOzgrj_gpa",
        "outputId": "6af431bf-6bcd-403e-feb3-adeb1a622249"
      },
      "outputs": [
        {
          "data": {
            "image/png": "[encoded data removed]",
            "text/plain": [
              "<Figure size 600x400 with 1 Axes>"
            ]
          },
          "metadata": {},
          "output_type": "display_data"
        },
        {
          "data": {
            "image/png": "[encoded data removed]",
            "text/plain": [
              "<Figure size 600x400 with 1 Axes>"
            ]
          },
          "metadata": {},
          "output_type": "display_data"
        },
        {
          "data": {
            "image/png": "[encoded data removed]",
            "text/plain": [
              "<Figure size 600x400 with 1 Axes>"
            ]
          },
          "metadata": {},
          "output_type": "display_data"
        },
        {
          "data": {
            "image/png": "[encoded data removed]",
            "text/plain": [
              "<Figure size 600x400 with 1 Axes>"
            ]
          },
          "metadata": {},
          "output_type": "display_data"
        },
        {
          "data": {
            "image/png": "[encoded data removed]",
            "text/plain": [
              "<Figure size 600x400 with 1 Axes>"
            ]
          },
          "metadata": {},
          "output_type": "display_data"
        }
      ],
      "source": [
        "metrics = ['word_count', 'ttr', 'hapax_ratio', 'flesch', 'gunning_fog']\n",
        "for metric in metrics:\n",
        "    plt.figure(figsize=(6,4))\n",
        "    sns.boxplot(data=combined, x='label', y=metric)\n",
        "    plt.title(f\"{metric} 비교\")\n",
        "    plt.show()"
      ]
    },
    {
      "cell_type": "markdown",
      "metadata": {
        "id": "GkDC9hrc_gpa"
      },
      "source": [
        "## 🧠 의미 임베딩 + UMAP 시각화 (SBERT 기반)\n",
        "\n",
        "해석 가이드\n",
        "- **같은 영역에 몰려 있음** → 의미적으로 유사한 질문들이 많음\n",
        "- **AI가 한쪽에 군집** → 반복적 패턴 or 특정 질문 구조에 치우쳐 있음\n",
        "- **Human이 퍼져 있음** → 다양한 맥락과 표현 방식 사용\n",
        "\n",
        "시각화 결과에서 AI가 좁은 공간에 몰려 있다면, 이는 \"의미 다양성 부족\"을 의미할 수 있습니다.\n",
        "\n",
        "1.   항목 추가\n",
        "2.   항목 추가\n",
        "\n"
      ]
    },
    {
      "cell_type": "code",
      "execution_count": 59,
      "metadata": {
        "colab": {
          "base_uri": "https://localhost:8080/",
          "height": 564
        },
        "id": "OP_DTitZ_gpa",
        "outputId": "ea64ea8b-8c78-47df-fe00-edd9a8b27968"
      },
      "outputs": [
        {
          "data": {
            "image/png": "[encoded data removed]",
            "text/plain": [
              "<Figure size 800x600 with 1 Axes>"
            ]
          },
          "metadata": {},
          "output_type": "display_data"
        }
      ],
      "source": [
        "model = SentenceTransformer('all-MiniLM-L6-v2')\n",
        "embeddings = model.encode(combined['question'].tolist())\n",
        "\n",
        "reducer = umap.UMAP(n_neighbors=15, min_dist=0.1, metric='cosine')\n",
        "embedding_2d = reducer.fit_transform(embeddings)\n",
        "\n",
        "combined['x'] = embedding_2d[:, 0]\n",
        "combined['y'] = embedding_2d[:, 1]\n",
        "\n",
        "plt.figure(figsize=(8,6))\n",
        "sns.scatterplot(data=combined, x='x', y='y', hue='label', alpha=0.7)\n",
        "plt.title(\"UMAP 임베딩 시각화 (AI vs 인간 질문)\")\n",
        "plt.show()"
      ]
    },
    {
      "cell_type": "markdown",
      "metadata": {
        "id": "eB1yNhVUFpOc"
      },
      "source": [
        "## 📊 통계적 유의성 검정 (t-test, Mann-Whitney U)\n",
        "\n",
        "두 집단(AI vs Human)의 평균 차이가 통계적으로 **유의미한지** 검정합니다.\n",
        "\n",
        "- 정규성 가정: t-test (독립표본)\n",
        "- 비모수: Mann-Whitney U test (순위 기반)"
      ]
    },
    {
      "cell_type": "code",
      "execution_count": 60,
      "metadata": {
        "colab": {
          "base_uri": "https://localhost:8080/"
        },
        "id": "d5kwpYr0FoGd",
        "outputId": "0cd438c0-f376-4759-e124-fb67737c2d81"
      },
      "outputs": [
        {
          "name": "stdout",
          "output_type": "stream",
          "text": [
            "\n",
            "📌 word_count 비교:\n",
            "t-test p-value: 0.0000 (유의미함)\n",
            "Mann-Whitney U p-value: 0.0000 (유의미함)\n",
            "\n",
            "📌 ttr 비교:\n",
            "t-test p-value: 0.0771 (차이 없음)\n",
            "Mann-Whitney U p-value: 0.0662 (차이 없음)\n",
            "\n",
            "📌 hapax_ratio 비교:\n",
            "t-test p-value: 0.0162 (유의미함)\n",
            "Mann-Whitney U p-value: 0.0070 (유의미함)\n",
            "\n",
            "📌 flesch 비교:\n",
            "t-test p-value: 0.0001 (유의미함)\n",
            "Mann-Whitney U p-value: 0.0001 (유의미함)\n",
            "\n",
            "📌 gunning_fog 비교:\n",
            "t-test p-value: 0.0000 (유의미함)\n",
            "Mann-Whitney U p-value: 0.0000 (유의미함)\n"
          ]
        }
      ],
      "source": [
        "from scipy.stats import ttest_ind, mannwhitneyu\n",
        "\n",
        "for metric in ['word_count', 'ttr', 'hapax_ratio', 'flesch', 'gunning_fog']:\n",
        "    print(f\"\\n📌 {metric} 비교:\")\n",
        "    group1 = ai_data[metric].dropna()\n",
        "    group2 = human_data[metric].dropna()\n",
        "\n",
        "    t_stat, t_p = ttest_ind(group1, group2, equal_var=False)\n",
        "    u_stat, u_p = mannwhitneyu(group1, group2, alternative='two-sided')\n",
        "\n",
        "    print(f\"t-test p-value: {t_p:.4f} ({'유의미함' if t_p < 0.05 else '차이 없음'})\")\n",
        "    print(f\"Mann-Whitney U p-value: {u_p:.4f} ({'유의미함' if u_p < 0.05 else '차이 없음'})\")"
      ]
    },
    {
      "cell_type": "markdown",
      "metadata": {
        "id": "dUIQ5IElFIta"
      },
      "source": [
        "## 📖 Boxplot 해석 방법\n",
        "\n",
        "| 구성 요소 | 의미 |\n",
        "|------------|------|\n",
        "| 상자(Box) | 중간 50% 데이터 분포 (IQR: Q1~Q3) |\n",
        "| 가로선    | 중앙값 (Median) |\n",
        "| 수염(Whisker) | Q1 - 1.5×IQR 또는 Q3 + 1.5×IQR 범위 |\n",
        "| ● 점들     | 이상치 (Outliers) |\n",
        "\n",
        "### 🔍 지표별 해석\n",
        "- **`word_count`**: 평균적으로 누가 더 긴 질문을 쓰는가?\n",
        "- **`ttr`**: 다양한 단어를 더 사용하는 쪽은?\n",
        "- **`hapax_ratio`**: 희귀 단어 사용이 많은 쪽은?\n",
        "- **`flesch`**: 어떤 질문이 더 읽기 쉬운가?\n",
        "- **`gunning_fog`**: 복잡한 문장은 누가 더 많이 쓰는가?\n",
        "\n",
        "### 📌 예시 해석 가이드\n",
        "- `flesch`가 **AI < Human**이면 → AI 문장이 더 어려움\n",
        "- `ttr`이 **Human > AI**이면 → 인간이 더 다양한 단어 사용\n",
        "- `word_count`가 비슷하더라도, `gunning_fog`가 다르면 문장 구조의 복잡성이 다름"
      ]
    },
    {
      "cell_type": "code",
      "execution_count": null,
      "metadata": {
        "colab": {
          "base_uri": "https://localhost:8080/"
        },
        "id": "fa502867",
        "outputId": "4da9382c-c777-45f1-c4d2-2294ae7d63f6"
      },
      "outputs": [
        {
          "name": "stderr",
          "output_type": "stream",
          "text": [
            "[nltk_data] Downloading package punkt to /root/nltk_data...\n",
            "[nltk_data]   Package punkt is already up-to-date!\n",
            "[nltk_data] Downloading package punkt_tab to /root/nltk_data...\n",
            "[nltk_data]   Package punkt_tab is already up-to-date!\n"
          ]
        },
        {
          "data": {
            "text/plain": [
              "True"
            ]
          },
          "execution_count": 16,
          "metadata": {},
          "output_type": "execute_result"
        }
      ],
      "source": [
        "import nltk\n",
        "nltk.download('punkt')\n",
        "nltk.download('punkt_tab')"
      ]
    },
    {
      "cell_type": "code",
      "execution_count": null,
      "metadata": {
        "id": "86f14c82"
      },
      "outputs": [],
      "source": [
        "import textstat\n",
        "from collections import Counter\n",
        "from nltk.tokenize import word_tokenize\n",
        "\n",
        "def analyze_text(text):\n",
        "    words = word_tokenize(text.lower())\n",
        "    tokens = [w for w in words if w.isalpha()]\n",
        "    total = len(tokens)\n",
        "    unique = len(set(tokens))\n",
        "    ttr = unique / total if total > 0 else 0\n",
        "    hapax = len([w for w, c in Counter(tokens).items() if c == 1]) / total if total > 0 else 0\n",
        "    return {\n",
        "        \"word_count\": total,\n",
        "        \"ttr\": round(ttr, 3),\n",
        "        \"hapax_ratio\": round(hapax, 3),\n",
        "        \"flesch\": textstat.flesch_reading_ease(text),\n",
        "        \"gunning_fog\": textstat.gunning_fog(text)\n",
        "    }"
      ]
    }
  ],
  "metadata": {
    "colab": {
      "provenance": []
    },
    "kernelspec": {
      "display_name": "Python 3",
      "name": "python3"
    },
    "language_info": {
      "name": "python"
    }
  },
  "nbformat": 4,
  "nbformat_minor": 0
}
