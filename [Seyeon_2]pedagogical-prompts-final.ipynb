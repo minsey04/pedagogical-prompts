{
  "nbformat": 4,
  "nbformat_minor": 0,
  "metadata": {
    "colab": {
      "provenance": []
    },
    "kernelspec": {
      "name": "python3",
      "display_name": "Python 3"
    },
    "language_info": {
      "name": "python"
    }
  },
  "cells": [
    {
      "cell_type": "markdown",
      "metadata": {
        "id": "A2g74bOx8E6M"
      },
      "source": [
        "# 🎓 AI 질문 자동 생성기 (책 기반)\n",
        "\n",
        "이 노트북은 책 제목을 입력하면 ChatGPT API를 사용해 **에세이형 토론 질문 22개**를 자동 생성하고, Google Sheets에 저장하는 워크플로우입니다.\n",
        "\n",
        "📌 이 노트북은 다음을 포함합니다:\n",
        "- OpenAI API 설정\n",
        "- 책 제목 입력\n",
        "- GPT-3.5로 질문 생성\n",
        "- pandas로 정리\n",
        "- Google Sheets 자동 업로드"
      ]
    },
    {
      "cell_type": "code",
      "execution_count": null,
      "metadata": {
        "id": "LXXVG91Z8E6N",
        "colab": {
          "base_uri": "https://localhost:8080/"
        },
        "outputId": "3d13f1f1-3ec8-4f69-ed22-ec780118eaa3"
      },
      "outputs": [
        {
          "output_type": "stream",
          "name": "stdout",
          "text": [
            "\u001b[2K     \u001b[90m━━━━━━━━━━━━━━━━━━━━━━━━━━━━━━━━━━━━━━━\u001b[0m \u001b[32m91.2/91.2 kB\u001b[0m \u001b[31m656.2 kB/s\u001b[0m eta \u001b[36m0:00:00\u001b[0m\n",
            "\u001b[2K   \u001b[90m━━━━━━━━━━━━━━━━━━━━━━━━━━━━━━━━━━━━━━━━\u001b[0m \u001b[32m734.4/734.4 kB\u001b[0m \u001b[31m6.6 MB/s\u001b[0m eta \u001b[36m0:00:00\u001b[0m\n",
            "\u001b[2K   \u001b[90m━━━━━━━━━━━━━━━━━━━━━━━━━━━━━━━━━━━━━━━━\u001b[0m \u001b[32m12.4/12.4 MB\u001b[0m \u001b[31m22.2 MB/s\u001b[0m eta \u001b[36m0:00:00\u001b[0m\n",
            "\u001b[?25h\u001b[31mERROR: pip's dependency resolver does not currently take into account all the packages that are installed. This behaviour is the source of the following dependency conflicts.\n",
            "google-colab 1.0.0 requires pandas==2.2.2, but you have pandas 2.3.0 which is incompatible.\n",
            "dask-cudf-cu12 25.2.2 requires pandas<2.2.4dev0,>=2.0, but you have pandas 2.3.0 which is incompatible.\n",
            "cudf-cu12 25.2.1 requires pandas<2.2.4dev0,>=2.0, but you have pandas 2.3.0 which is incompatible.\u001b[0m\u001b[31m\n",
            "\u001b[0m"
          ]
        }
      ],
      "source": [
        "# ✅ 필요한 라이브러리 설치 (최초 1회 실행)\n",
        "!pip install --upgrade openai gspread oauth2client pandas --quiet"
      ]
    },
    {
      "cell_type": "markdown",
      "metadata": {
        "id": "pZD4PSMx8E6O"
      },
      "source": [
        "## 🔐 OpenAI API 키 입력\n",
        "- 아래 코드에 본인의 API 키(`sk-...`)를 넣으세요.\n",
        "- GPT-4 접근권한이 없을 경우 GPT-3.5로 자동 생성됩니다."
      ]
    },
    {
      "cell_type": "code",
      "execution_count": null,
      "metadata": {
        "id": "TGl5amBZ8E6O"
      },
      "outputs": [],
      "source": [
        "from openai import OpenAI\n",
        "import pandas as pd\n",
        "\n",
        "# 여기에 세연의 OpenAI API 키 입력\n",
        "client = OpenAI(api_key=\"\")"
      ]
    },
    {
      "cell_type": "markdown",
      "metadata": {
        "id": "_95jbSwA8E6O"
      },
      "source": [
        "## 📁 Google Sheets 인증파일 업로드\n",
        "- Google Cloud Console에서 `credentials.json` 다운로드 받아 업로드하세요.\n",
        "- 서비스 계정 이메일을 Google Sheets 문서에 공유해야 합니다."
      ]
    },
    {
      "cell_type": "code",
      "execution_count": null,
      "metadata": {
        "colab": {
          "base_uri": "https://localhost:8080/",
          "height": 74
        },
        "id": "oXAT_jAT8E6O",
        "outputId": "34b18c33-292f-42d3-a1d3-24fd9f0e26d6"
      },
      "outputs": [
        {
          "output_type": "display_data",
          "data": {
            "text/plain": [
              "<IPython.core.display.HTML object>"
            ],
            "text/html": [
              "\n",
              "     <input type=\"file\" id=\"files-9dbe2165-368d-4cf5-81bc-f82d5d87a1f6\" name=\"files[]\" multiple disabled\n",
              "        style=\"border:none\" />\n",
              "     <output id=\"result-9dbe2165-368d-4cf5-81bc-f82d5d87a1f6\">\n",
              "      Upload widget is only available when the cell has been executed in the\n",
              "      current browser session. Please rerun this cell to enable.\n",
              "      </output>\n",
              "      <script>// Copyright 2017 Google LLC\n",
              "//\n",
              "// Licensed under the Apache License, Version 2.0 (the \"License\");\n",
              "// you may not use this file except in compliance with the License.\n",
              "// You may obtain a copy of the License at\n",
              "//\n",
              "//      http://www.apache.org/licenses/LICENSE-2.0\n",
              "//\n",
              "// Unless required by applicable law or agreed to in writing, software\n",
              "// distributed under the License is distributed on an \"AS IS\" BASIS,\n",
              "// WITHOUT WARRANTIES OR CONDITIONS OF ANY KIND, either express or implied.\n",
              "// See the License for the specific language governing permissions and\n",
              "// limitations under the License.\n",
              "\n",
              "/**\n",
              " * @fileoverview Helpers for google.colab Python module.\n",
              " */\n",
              "(function(scope) {\n",
              "function span(text, styleAttributes = {}) {\n",
              "  const element = document.createElement('span');\n",
              "  element.textContent = text;\n",
              "  for (const key of Object.keys(styleAttributes)) {\n",
              "    element.style[key] = styleAttributes[key];\n",
              "  }\n",
              "  return element;\n",
              "}\n",
              "\n",
              "// Max number of bytes which will be uploaded at a time.\n",
              "const MAX_PAYLOAD_SIZE = 100 * 1024;\n",
              "\n",
              "function _uploadFiles(inputId, outputId) {\n",
              "  const steps = uploadFilesStep(inputId, outputId);\n",
              "  const outputElement = document.getElementById(outputId);\n",
              "  // Cache steps on the outputElement to make it available for the next call\n",
              "  // to uploadFilesContinue from Python.\n",
              "  outputElement.steps = steps;\n",
              "\n",
              "  return _uploadFilesContinue(outputId);\n",
              "}\n",
              "\n",
              "// This is roughly an async generator (not supported in the browser yet),\n",
              "// where there are multiple asynchronous steps and the Python side is going\n",
              "// to poll for completion of each step.\n",
              "// This uses a Promise to block the python side on completion of each step,\n",
              "// then passes the result of the previous step as the input to the next step.\n",
              "function _uploadFilesContinue(outputId) {\n",
              "  const outputElement = document.getElementById(outputId);\n",
              "  const steps = outputElement.steps;\n",
              "\n",
              "  const next = steps.next(outputElement.lastPromiseValue);\n",
              "  return Promise.resolve(next.value.promise).then((value) => {\n",
              "    // Cache the last promise value to make it available to the next\n",
              "    // step of the generator.\n",
              "    outputElement.lastPromiseValue = value;\n",
              "    return next.value.response;\n",
              "  });\n",
              "}\n",
              "\n",
              "/**\n",
              " * Generator function which is called between each async step of the upload\n",
              " * process.\n",
              " * @param {string} inputId Element ID of the input file picker element.\n",
              " * @param {string} outputId Element ID of the output display.\n",
              " * @return {!Iterable<!Object>} Iterable of next steps.\n",
              " */\n",
              "function* uploadFilesStep(inputId, outputId) {\n",
              "  const inputElement = document.getElementById(inputId);\n",
              "  inputElement.disabled = false;\n",
              "\n",
              "  const outputElement = document.getElementById(outputId);\n",
              "  outputElement.innerHTML = '';\n",
              "\n",
              "  const pickedPromise = new Promise((resolve) => {\n",
              "    inputElement.addEventListener('change', (e) => {\n",
              "      resolve(e.target.files);\n",
              "    });\n",
              "  });\n",
              "\n",
              "  const cancel = document.createElement('button');\n",
              "  inputElement.parentElement.appendChild(cancel);\n",
              "  cancel.textContent = 'Cancel upload';\n",
              "  const cancelPromise = new Promise((resolve) => {\n",
              "    cancel.onclick = () => {\n",
              "      resolve(null);\n",
              "    };\n",
              "  });\n",
              "\n",
              "  // Wait for the user to pick the files.\n",
              "  const files = yield {\n",
              "    promise: Promise.race([pickedPromise, cancelPromise]),\n",
              "    response: {\n",
              "      action: 'starting',\n",
              "    }\n",
              "  };\n",
              "\n",
              "  cancel.remove();\n",
              "\n",
              "  // Disable the input element since further picks are not allowed.\n",
              "  inputElement.disabled = true;\n",
              "\n",
              "  if (!files) {\n",
              "    return {\n",
              "      response: {\n",
              "        action: 'complete',\n",
              "      }\n",
              "    };\n",
              "  }\n",
              "\n",
              "  for (const file of files) {\n",
              "    const li = document.createElement('li');\n",
              "    li.append(span(file.name, {fontWeight: 'bold'}));\n",
              "    li.append(span(\n",
              "        `(${file.type || 'n/a'}) - ${file.size} bytes, ` +\n",
              "        `last modified: ${\n",
              "            file.lastModifiedDate ? file.lastModifiedDate.toLocaleDateString() :\n",
              "                                    'n/a'} - `));\n",
              "    const percent = span('0% done');\n",
              "    li.appendChild(percent);\n",
              "\n",
              "    outputElement.appendChild(li);\n",
              "\n",
              "    const fileDataPromise = new Promise((resolve) => {\n",
              "      const reader = new FileReader();\n",
              "      reader.onload = (e) => {\n",
              "        resolve(e.target.result);\n",
              "      };\n",
              "      reader.readAsArrayBuffer(file);\n",
              "    });\n",
              "    // Wait for the data to be ready.\n",
              "    let fileData = yield {\n",
              "      promise: fileDataPromise,\n",
              "      response: {\n",
              "        action: 'continue',\n",
              "      }\n",
              "    };\n",
              "\n",
              "    // Use a chunked sending to avoid message size limits. See b/62115660.\n",
              "    let position = 0;\n",
              "    do {\n",
              "      const length = Math.min(fileData.byteLength - position, MAX_PAYLOAD_SIZE);\n",
              "      const chunk = new Uint8Array(fileData, position, length);\n",
              "      position += length;\n",
              "\n",
              "      const base64 = btoa(String.fromCharCode.apply(null, chunk));\n",
              "      yield {\n",
              "        response: {\n",
              "          action: 'append',\n",
              "          file: file.name,\n",
              "          data: base64,\n",
              "        },\n",
              "      };\n",
              "\n",
              "      let percentDone = fileData.byteLength === 0 ?\n",
              "          100 :\n",
              "          Math.round((position / fileData.byteLength) * 100);\n",
              "      percent.textContent = `${percentDone}% done`;\n",
              "\n",
              "    } while (position < fileData.byteLength);\n",
              "  }\n",
              "\n",
              "  // All done.\n",
              "  yield {\n",
              "    response: {\n",
              "      action: 'complete',\n",
              "    }\n",
              "  };\n",
              "}\n",
              "\n",
              "scope.google = scope.google || {};\n",
              "scope.google.colab = scope.google.colab || {};\n",
              "scope.google.colab._files = {\n",
              "  _uploadFiles,\n",
              "  _uploadFilesContinue,\n",
              "};\n",
              "})(self);\n",
              "</script> "
            ]
          },
          "metadata": {}
        },
        {
          "output_type": "stream",
          "name": "stdout",
          "text": [
            "Saving credentials.json to credentials (2).json\n"
          ]
        }
      ],
      "source": [
        "from google.colab import files\n",
        "uploaded = files.upload()"
      ]
    },
    {
      "cell_type": "markdown",
      "metadata": {
        "id": "N50w4mcB8E6P"
      },
      "source": [
        "## 📚 분석할 책 목록 정의\n",
        "- 책 제목과 저자 이름을 리스트 형식으로 입력합니다.\n",
        "- 여러 권 입력 가능"
      ]
    },
    {
      "cell_type": "code",
      "execution_count": null,
      "metadata": {
        "id": "azqAI7n58E6P"
      },
      "outputs": [],
      "source": [
        "# Step 1. 구글 시트 연동 (credentials.json 필요)\n",
        "import gspread\n",
        "from oauth2client.service_account import ServiceAccountCredentials\n",
        "import pandas as pd\n",
        "\n",
        "scope = [\"https://spreadsheets.google.com/feeds\", \"https://www.googleapis.com/auth/drive\"]\n",
        "creds = ServiceAccountCredentials.from_json_keyfile_name(\"credentials.json\", scope)\n",
        "gc = gspread.authorize(creds)\n",
        "\n",
        "# Step 2. 시트 열기 및 Sheet2 가져오기\n",
        "sheet = gc.open(\"AI_Questions_Dataset\")\n",
        "human_sheet = sheet.worksheet(\"Sheet2\")\n",
        "human_data = pd.DataFrame(human_sheet.get_all_records())\n",
        "\n"
      ]
    },
    {
      "cell_type": "code",
      "source": [
        "# 질문이 비어 있지 않은 경우만 필터링\n",
        "filtered_human_data = human_data[human_data['question'].str.strip() != '']\n",
        "\n",
        "# 질문이 있는 책들만 추출\n",
        "unique_books = filtered_human_data[['book_title', 'author']].drop_duplicates()\n",
        "books = unique_books.rename(columns={\"book_title\": \"title\"}).to_dict(orient=\"records\")\n",
        "\n",
        "# 질문 수 사전 생성\n",
        "book_counts = filtered_human_data.groupby([\"book_title\", \"author\"]).size().reset_index(name=\"count\")\n",
        "book_to_count = {\n",
        "    (row[\"book_title\"], row[\"author\"]): row[\"count\"]\n",
        "    for _, row in book_counts.iterrows()\n",
        "}\n",
        "\n",
        "# 결과 확인\n",
        "for book in books:\n",
        "    key = (book[\"title\"], book[\"author\"])\n",
        "    print(f\"{book} → 질문 수: {book_to_count.get(key)}\")\n"
      ],
      "metadata": {
        "colab": {
          "base_uri": "https://localhost:8080/"
        },
        "id": "JuQMRzwNt6Xm",
        "outputId": "e2030557-f682-403f-b96f-7ec0a558cb6d"
      },
      "execution_count": null,
      "outputs": [
        {
          "output_type": "stream",
          "name": "stdout",
          "text": [
            "{'title': 'The Lemonade War', 'author': 'Jacqueline Davies'} → 질문 수: 22\n",
            "{'title': 'The Lemonade Crime', 'author': 'Jacqueline Davies'} → 질문 수: 21\n",
            "{'title': 'The Lemonade Crime', 'author': 'Matt Haig'} → 질문 수: 1\n",
            "{'title': 'A Boy Called Christmas', 'author': 'Matt Haig'} → 질문 수: 21\n",
            "{'title': 'A Boy Called Christmas', 'author': 'Richard Peck'} → 질문 수: 1\n",
            "{'title': 'A Year Down Yonder', 'author': 'Richard Peck'} → 질문 수: 21\n",
            "{'title': 'A Year Down Yonder', 'author': 'Katherine Paterson'} → 질문 수: 1\n",
            "{'title': 'Bridge to Terabitha', 'author': 'Katherine Paterson'} → 질문 수: 21\n",
            "{'title': 'Bridge to Terabitha', 'author': 'Louis Sachar'} → 질문 수: 1\n",
            "{'title': 'Holes', 'author': 'Louis Sachar'} → 질문 수: 21\n",
            "{'title': 'Holes', 'author': 'Lynne Reid Banks'} → 질문 수: 1\n",
            "{'title': 'The Indian in the Cupboard', 'author': 'Lynne Reid Banks'} → 질문 수: 21\n",
            "{'title': 'The Indian in the Cupboard', 'author': 'Kate DiCamillo'} → 질문 수: 1\n",
            "{'title': 'The Tale of Despereaux', 'author': 'Kate DiCamillo'} → 질문 수: 21\n",
            "{'title': 'The Tale of Despereaux', 'author': 'E.B. White'} → 질문 수: 1\n",
            "{'title': \"Charlotte's Web\", 'author': 'E.B. White'} → 질문 수: 21\n",
            "{'title': \"Charlotte's Web\", 'author': 'Linda Sue Park'} → 질문 수: 1\n",
            "{'title': 'A Long Walk to Water', 'author': 'Linda Sue Park'} → 질문 수: 21\n",
            "{'title': 'A Long Walk to Water', 'author': 'Wilson Rawls'} → 질문 수: 1\n",
            "{'title': 'Summer of the Monkeys', 'author': 'Wilson Rawls'} → 질문 수: 21\n",
            "{'title': 'Summer of the Monkeys', 'author': 'Kate DiCamillo'} → 질문 수: 1\n",
            "{'title': \"The Magician's Elephant\", 'author': 'Kate DiCamillo'} → 질문 수: 21\n",
            "{'title': \"The Magician's Elephant\", 'author': 'Alan Gratz'} → 질문 수: 1\n",
            "{'title': 'Refugee', 'author': 'Alan Gratz'} → 질문 수: 21\n",
            "{'title': 'Refugee', 'author': 'Jasmine Warga'} → 질문 수: 1\n",
            "{'title': \"A Rover's Story\", 'author': 'Jasmine Warga'} → 질문 수: 21\n",
            "{'title': \"A Rover's Story\", 'author': 'Judy Blume'} → 질문 수: 1\n",
            "{'title': 'Otherwise Known as Sheila the Great', 'author': 'Judy Blume'} → 질문 수: 22\n",
            "{'title': 'Tales of a Fourth Grade Nothing', 'author': 'Judy Blume'} → 질문 수: 21\n",
            "{'title': 'Tales of a Fourth Grade Nothing', 'author': 'Kacen Callender'} → 질문 수: 1\n",
            "{'title': 'King and the Dragonflies', 'author': 'Kacen Callender'} → 질문 수: 21\n",
            "{'title': 'King and the Dragonflies', 'author': 'Jason Reynolds'} → 질문 수: 1\n",
            "{'title': 'Ghost', 'author': 'Jason Reynolds'} → 질문 수: 21\n",
            "{'title': 'Ghost', 'author': 'Beverly Cleary'} → 질문 수: 1\n",
            "{'title': 'Dear Mr. Henshaw', 'author': 'Beverly Cleary'} → 질문 수: 21\n",
            "{'title': 'Dear Mr. Henshaw', 'author': 'Jen Calonita'} → 질문 수: 1\n",
            "{'title': 'The Retake', 'author': 'Jen Calonita'} → 질문 수: 21\n",
            "{'title': 'The Retake', 'author': 'Sheila Turnage'} → 질문 수: 1\n",
            "{'title': 'Three Times Lucky', 'author': 'Sheila Turnage'} → 질문 수: 21\n",
            "{'title': 'Three Times Lucky', 'author': 'Wendy Mass & Rebecca Stead'} → 질문 수: 1\n",
            "{'title': 'Bob', 'author': 'Wendy Mass & Rebecca Stead'} → 질문 수: 21\n",
            "{'title': 'Bob', 'author': 'Zetta Elliott'} → 질문 수: 1\n",
            "{'title': 'Dragons in a Bag', 'author': 'Zetta Elliott'} → 질문 수: 21\n",
            "{'title': 'Dragons in a Bag', 'author': ''} → 질문 수: 1\n"
          ]
        }
      ]
    },
    {
      "cell_type": "markdown",
      "metadata": {
        "id": "GMFJ_91E8E6P"
      },
      "source": [
        "## ✨ GPT-3.5를 사용한 질문 생성 함수\n",
        "- 에세이형, 비판적 사고 기반 질문 22개 생성\n",
        "- 1~22번 형식으로 출력된 질문만 추출"
      ]
    },
    {
      "cell_type": "code",
      "source": [
        "# Step 4. 질문 수 가져오기\n",
        "book_counts = filtered_human_data.groupby([\"book_title\", \"author\"]).size().reset_index(name=\"count\")\n",
        "book_to_count = {\n",
        "    (row[\"book_title\"], row[\"author\"]): row[\"count\"]\n",
        "    for _, row in book_counts.iterrows()\n",
        "}"
      ],
      "metadata": {
        "id": "ob2I0s_NyIB1"
      },
      "execution_count": null,
      "outputs": []
    },
    {
      "cell_type": "code",
      "source": [
        "# Step 5. AI 질문 생성 함수\n",
        "def generate_questions(book, num_questions):\n",
        "    prompt = f\"\"\"\n",
        "You are an experienced curriculum designer for middle and high school humanities classes.\n",
        "Please generate {num_questions} unique, high-quality essay-style discussion questions based on the book titled \\\"{book['title']}\\\" by {book['author']}. Questions should promote deep thinking, character analysis, and real-world themes. Format:\n",
        "1. ...\n",
        "2. ...\n",
        "...\n",
        "{num_questions}. ...\n",
        "\"\"\"\n",
        "    try:\n",
        "        response = client.chat.completions.create(\n",
        "            model=\"gpt-3.5-turbo\",\n",
        "            messages=[{\"role\": \"user\", \"content\": prompt}],\n",
        "            temperature=0.7\n",
        "        )\n",
        "        content = response.choices[0].message.content\n",
        "        return [line.strip()[3:].strip() for line in content.split('\\n') if line.strip().startswith(tuple(\"123456789\"))]\n",
        "    except Exception as e:\n",
        "        print(f\"⚠️ 오류 발생 for {book['title']}: {e}\")\n",
        "        return []"
      ],
      "metadata": {
        "id": "UBEv_gkbyEVn"
      },
      "execution_count": null,
      "outputs": []
    },
    {
      "cell_type": "markdown",
      "metadata": {
        "id": "-XOZxTJK8E6P"
      },
      "source": [
        "## 📊 질문 생성 및 DataFrame 저장 & 📤 Google Sheets에 자동 업로드\n",
        "- pandas DataFrame으로 정리하고 csv로 저장"
      ]
    },
    {
      "cell_type": "code",
      "source": [
        "# ✅ 질문 생성 및 저장\n",
        "all_ai_questions = []\n",
        "\n",
        "for book in books:\n",
        "    key = (book[\"title\"], book[\"author\"])\n",
        "    num_q = book_to_count.get(key, 0)\n",
        "\n",
        "    if num_q == 0:\n",
        "        print(f\"❗ '{book['title']}'에 대한 사람이 만든 질문이 없어 건너뜀\")\n",
        "        continue\n",
        "\n",
        "    qlist = generate_questions(book, num_q)\n",
        "\n",
        "    for i, q in enumerate(qlist):\n",
        "        all_ai_questions.append({\n",
        "            \"book_title\": book[\"title\"],\n",
        "            \"author\": book[\"author\"],\n",
        "            \"question_number\": i + 1,\n",
        "            \"question\": q,\n",
        "            \"length\": len(q),\n",
        "            \"source\": \"AI\"\n",
        "        })\n"
      ],
      "metadata": {
        "id": "u20aQZcyyYTP"
      },
      "execution_count": null,
      "outputs": []
    },
    {
      "cell_type": "markdown",
      "metadata": {
        "id": "nh9REnXL3gMr"
      },
      "source": [
        "## 📤 DataFrame 저장 &  Google Sheets에 자동 업로드\n",
        "- pandas DataFrame으로 정리하고 csv로 저장"
      ]
    },
    {
      "cell_type": "code",
      "source": [
        "# 1. AI 질문 리스트 → DataFrame 변환\n",
        "df_ai = pd.DataFrame(all_ai_questions)\n",
        "\n",
        "\n",
        "# 2. Sheet1 덮어쓰기 방식으로 Google Sheets에 저장\n",
        "try:\n",
        "    sheet.del_worksheet(sheet.worksheet(\"Sheet1\"))\n",
        "except:\n",
        "    pass\n",
        "sheet.add_worksheet(title=\"Sheet1\", rows=\"1000\", cols=\"10\")\n",
        "ai_sheet = sheet.worksheet(\"Sheet1\")\n",
        "ai_sheet.update([df_ai.columns.values.tolist()] + df_ai.values.tolist())\n",
        "print(\"✅ Google Sheets 업로드 완료\")\n"
      ],
      "metadata": {
        "colab": {
          "base_uri": "https://localhost:8080/"
        },
        "id": "NK_Xc7nR3QiS",
        "outputId": "f4a5d52a-2777-4495-b7a7-602610a3b8e1"
      },
      "execution_count": null,
      "outputs": [
        {
          "output_type": "stream",
          "name": "stdout",
          "text": [
            "✅ Google Sheets 업로드 완료\n"
          ]
        }
      ]
    },
    {
      "cell_type": "code",
      "source": [
        "# 3. CSV 파일로도 병렬 저장 (백업 + 분석용)\n",
        "df_ai.to_csv(\"ai_questions.csv\", index=False)\n",
        "df_ai.head()"
      ],
      "metadata": {
        "colab": {
          "base_uri": "https://localhost:8080/",
          "height": 293
        },
        "id": "-TaFvx9x3FU1",
        "outputId": "1f1cea50-cc69-41c2-e9d4-403c325dbdc5"
      },
      "execution_count": null,
      "outputs": [
        {
          "output_type": "execute_result",
          "data": {
            "text/plain": [
              "         book_title             author  question_number  \\\n",
              "0  The Lemonade War  Jacqueline Davies                1   \n",
              "1  The Lemonade War  Jacqueline Davies                2   \n",
              "2  The Lemonade War  Jacqueline Davies                3   \n",
              "3  The Lemonade War  Jacqueline Davies                4   \n",
              "4  The Lemonade War  Jacqueline Davies                5   \n",
              "\n",
              "                                            question  length source  \n",
              "0  How does the sibling rivalry between Jessie an...      94     AI  \n",
              "1  In what ways does the lemonade stand competiti...     102     AI  \n",
              "2  How does the concept of entrepreneurship play ...     139     AI  \n",
              "3  Discuss the importance of communication and te...     131     AI  \n",
              "4  How do Jessie and Evan's differing personaliti...     147     AI  "
            ],
            "text/html": [
              "\n",
              "  <div id=\"df-534da5d3-01f1-42e8-800c-35d9ab52864b\" class=\"colab-df-container\">\n",
              "    <div>\n",
              "<style scoped>\n",
              "    .dataframe tbody tr th:only-of-type {\n",
              "        vertical-align: middle;\n",
              "    }\n",
              "\n",
              "    .dataframe tbody tr th {\n",
              "        vertical-align: top;\n",
              "    }\n",
              "\n",
              "    .dataframe thead th {\n",
              "        text-align: right;\n",
              "    }\n",
              "</style>\n",
              "<table border=\"1\" class=\"dataframe\">\n",
              "  <thead>\n",
              "    <tr style=\"text-align: right;\">\n",
              "      <th></th>\n",
              "      <th>book_title</th>\n",
              "      <th>author</th>\n",
              "      <th>question_number</th>\n",
              "      <th>question</th>\n",
              "      <th>length</th>\n",
              "      <th>source</th>\n",
              "    </tr>\n",
              "  </thead>\n",
              "  <tbody>\n",
              "    <tr>\n",
              "      <th>0</th>\n",
              "      <td>The Lemonade War</td>\n",
              "      <td>Jacqueline Davies</td>\n",
              "      <td>1</td>\n",
              "      <td>How does the sibling rivalry between Jessie an...</td>\n",
              "      <td>94</td>\n",
              "      <td>AI</td>\n",
              "    </tr>\n",
              "    <tr>\n",
              "      <th>1</th>\n",
              "      <td>The Lemonade War</td>\n",
              "      <td>Jacqueline Davies</td>\n",
              "      <td>2</td>\n",
              "      <td>In what ways does the lemonade stand competiti...</td>\n",
              "      <td>102</td>\n",
              "      <td>AI</td>\n",
              "    </tr>\n",
              "    <tr>\n",
              "      <th>2</th>\n",
              "      <td>The Lemonade War</td>\n",
              "      <td>Jacqueline Davies</td>\n",
              "      <td>3</td>\n",
              "      <td>How does the concept of entrepreneurship play ...</td>\n",
              "      <td>139</td>\n",
              "      <td>AI</td>\n",
              "    </tr>\n",
              "    <tr>\n",
              "      <th>3</th>\n",
              "      <td>The Lemonade War</td>\n",
              "      <td>Jacqueline Davies</td>\n",
              "      <td>4</td>\n",
              "      <td>Discuss the importance of communication and te...</td>\n",
              "      <td>131</td>\n",
              "      <td>AI</td>\n",
              "    </tr>\n",
              "    <tr>\n",
              "      <th>4</th>\n",
              "      <td>The Lemonade War</td>\n",
              "      <td>Jacqueline Davies</td>\n",
              "      <td>5</td>\n",
              "      <td>How do Jessie and Evan's differing personaliti...</td>\n",
              "      <td>147</td>\n",
              "      <td>AI</td>\n",
              "    </tr>\n",
              "  </tbody>\n",
              "</table>\n",
              "</div>\n",
              "    <div class=\"colab-df-buttons\">\n",
              "\n",
              "  <div class=\"colab-df-container\">\n",
              "    <button class=\"colab-df-convert\" onclick=\"convertToInteractive('df-534da5d3-01f1-42e8-800c-35d9ab52864b')\"\n",
              "            title=\"Convert this dataframe to an interactive table.\"\n",
              "            style=\"display:none;\">\n",
              "\n",
              "  <svg xmlns=\"http://www.w3.org/2000/svg\" height=\"24px\" viewBox=\"0 -960 960 960\">\n",
              "    <path d=\"M120-120v-720h720v720H120Zm60-500h600v-160H180v160Zm220 220h160v-160H400v160Zm0 220h160v-160H400v160ZM180-400h160v-160H180v160Zm440 0h160v-160H620v160ZM180-180h160v-160H180v160Zm440 0h160v-160H620v160Z\"/>\n",
              "  </svg>\n",
              "    </button>\n",
              "\n",
              "  <style>\n",
              "    .colab-df-container {\n",
              "      display:flex;\n",
              "      gap: 12px;\n",
              "    }\n",
              "\n",
              "    .colab-df-convert {\n",
              "      background-color: #E8F0FE;\n",
              "      border: none;\n",
              "      border-radius: 50%;\n",
              "      cursor: pointer;\n",
              "      display: none;\n",
              "      fill: #1967D2;\n",
              "      height: 32px;\n",
              "      padding: 0 0 0 0;\n",
              "      width: 32px;\n",
              "    }\n",
              "\n",
              "    .colab-df-convert:hover {\n",
              "      background-color: #E2EBFA;\n",
              "      box-shadow: 0px 1px 2px rgba(60, 64, 67, 0.3), 0px 1px 3px 1px rgba(60, 64, 67, 0.15);\n",
              "      fill: #174EA6;\n",
              "    }\n",
              "\n",
              "    .colab-df-buttons div {\n",
              "      margin-bottom: 4px;\n",
              "    }\n",
              "\n",
              "    [theme=dark] .colab-df-convert {\n",
              "      background-color: #3B4455;\n",
              "      fill: #D2E3FC;\n",
              "    }\n",
              "\n",
              "    [theme=dark] .colab-df-convert:hover {\n",
              "      background-color: #434B5C;\n",
              "      box-shadow: 0px 1px 3px 1px rgba(0, 0, 0, 0.15);\n",
              "      filter: drop-shadow(0px 1px 2px rgba(0, 0, 0, 0.3));\n",
              "      fill: #FFFFFF;\n",
              "    }\n",
              "  </style>\n",
              "\n",
              "    <script>\n",
              "      const buttonEl =\n",
              "        document.querySelector('#df-534da5d3-01f1-42e8-800c-35d9ab52864b button.colab-df-convert');\n",
              "      buttonEl.style.display =\n",
              "        google.colab.kernel.accessAllowed ? 'block' : 'none';\n",
              "\n",
              "      async function convertToInteractive(key) {\n",
              "        const element = document.querySelector('#df-534da5d3-01f1-42e8-800c-35d9ab52864b');\n",
              "        const dataTable =\n",
              "          await google.colab.kernel.invokeFunction('convertToInteractive',\n",
              "                                                    [key], {});\n",
              "        if (!dataTable) return;\n",
              "\n",
              "        const docLinkHtml = 'Like what you see? Visit the ' +\n",
              "          '<a target=\"_blank\" href=https://colab.research.google.com/notebooks/data_table.ipynb>data table notebook</a>'\n",
              "          + ' to learn more about interactive tables.';\n",
              "        element.innerHTML = '';\n",
              "        dataTable['output_type'] = 'display_data';\n",
              "        await google.colab.output.renderOutput(dataTable, element);\n",
              "        const docLink = document.createElement('div');\n",
              "        docLink.innerHTML = docLinkHtml;\n",
              "        element.appendChild(docLink);\n",
              "      }\n",
              "    </script>\n",
              "  </div>\n",
              "\n",
              "\n",
              "    <div id=\"df-d6beb618-aafd-43d5-9582-528a5d56f09e\">\n",
              "      <button class=\"colab-df-quickchart\" onclick=\"quickchart('df-d6beb618-aafd-43d5-9582-528a5d56f09e')\"\n",
              "                title=\"Suggest charts\"\n",
              "                style=\"display:none;\">\n",
              "\n",
              "<svg xmlns=\"http://www.w3.org/2000/svg\" height=\"24px\"viewBox=\"0 0 24 24\"\n",
              "     width=\"24px\">\n",
              "    <g>\n",
              "        <path d=\"M19 3H5c-1.1 0-2 .9-2 2v14c0 1.1.9 2 2 2h14c1.1 0 2-.9 2-2V5c0-1.1-.9-2-2-2zM9 17H7v-7h2v7zm4 0h-2V7h2v10zm4 0h-2v-4h2v4z\"/>\n",
              "    </g>\n",
              "</svg>\n",
              "      </button>\n",
              "\n",
              "<style>\n",
              "  .colab-df-quickchart {\n",
              "      --bg-color: #E8F0FE;\n",
              "      --fill-color: #1967D2;\n",
              "      --hover-bg-color: #E2EBFA;\n",
              "      --hover-fill-color: #174EA6;\n",
              "      --disabled-fill-color: #AAA;\n",
              "      --disabled-bg-color: #DDD;\n",
              "  }\n",
              "\n",
              "  [theme=dark] .colab-df-quickchart {\n",
              "      --bg-color: #3B4455;\n",
              "      --fill-color: #D2E3FC;\n",
              "      --hover-bg-color: #434B5C;\n",
              "      --hover-fill-color: #FFFFFF;\n",
              "      --disabled-bg-color: #3B4455;\n",
              "      --disabled-fill-color: #666;\n",
              "  }\n",
              "\n",
              "  .colab-df-quickchart {\n",
              "    background-color: var(--bg-color);\n",
              "    border: none;\n",
              "    border-radius: 50%;\n",
              "    cursor: pointer;\n",
              "    display: none;\n",
              "    fill: var(--fill-color);\n",
              "    height: 32px;\n",
              "    padding: 0;\n",
              "    width: 32px;\n",
              "  }\n",
              "\n",
              "  .colab-df-quickchart:hover {\n",
              "    background-color: var(--hover-bg-color);\n",
              "    box-shadow: 0 1px 2px rgba(60, 64, 67, 0.3), 0 1px 3px 1px rgba(60, 64, 67, 0.15);\n",
              "    fill: var(--button-hover-fill-color);\n",
              "  }\n",
              "\n",
              "  .colab-df-quickchart-complete:disabled,\n",
              "  .colab-df-quickchart-complete:disabled:hover {\n",
              "    background-color: var(--disabled-bg-color);\n",
              "    fill: var(--disabled-fill-color);\n",
              "    box-shadow: none;\n",
              "  }\n",
              "\n",
              "  .colab-df-spinner {\n",
              "    border: 2px solid var(--fill-color);\n",
              "    border-color: transparent;\n",
              "    border-bottom-color: var(--fill-color);\n",
              "    animation:\n",
              "      spin 1s steps(1) infinite;\n",
              "  }\n",
              "\n",
              "  @keyframes spin {\n",
              "    0% {\n",
              "      border-color: transparent;\n",
              "      border-bottom-color: var(--fill-color);\n",
              "      border-left-color: var(--fill-color);\n",
              "    }\n",
              "    20% {\n",
              "      border-color: transparent;\n",
              "      border-left-color: var(--fill-color);\n",
              "      border-top-color: var(--fill-color);\n",
              "    }\n",
              "    30% {\n",
              "      border-color: transparent;\n",
              "      border-left-color: var(--fill-color);\n",
              "      border-top-color: var(--fill-color);\n",
              "      border-right-color: var(--fill-color);\n",
              "    }\n",
              "    40% {\n",
              "      border-color: transparent;\n",
              "      border-right-color: var(--fill-color);\n",
              "      border-top-color: var(--fill-color);\n",
              "    }\n",
              "    60% {\n",
              "      border-color: transparent;\n",
              "      border-right-color: var(--fill-color);\n",
              "    }\n",
              "    80% {\n",
              "      border-color: transparent;\n",
              "      border-right-color: var(--fill-color);\n",
              "      border-bottom-color: var(--fill-color);\n",
              "    }\n",
              "    90% {\n",
              "      border-color: transparent;\n",
              "      border-bottom-color: var(--fill-color);\n",
              "    }\n",
              "  }\n",
              "</style>\n",
              "\n",
              "      <script>\n",
              "        async function quickchart(key) {\n",
              "          const quickchartButtonEl =\n",
              "            document.querySelector('#' + key + ' button');\n",
              "          quickchartButtonEl.disabled = true;  // To prevent multiple clicks.\n",
              "          quickchartButtonEl.classList.add('colab-df-spinner');\n",
              "          try {\n",
              "            const charts = await google.colab.kernel.invokeFunction(\n",
              "                'suggestCharts', [key], {});\n",
              "          } catch (error) {\n",
              "            console.error('Error during call to suggestCharts:', error);\n",
              "          }\n",
              "          quickchartButtonEl.classList.remove('colab-df-spinner');\n",
              "          quickchartButtonEl.classList.add('colab-df-quickchart-complete');\n",
              "        }\n",
              "        (() => {\n",
              "          let quickchartButtonEl =\n",
              "            document.querySelector('#df-d6beb618-aafd-43d5-9582-528a5d56f09e button');\n",
              "          quickchartButtonEl.style.display =\n",
              "            google.colab.kernel.accessAllowed ? 'block' : 'none';\n",
              "        })();\n",
              "      </script>\n",
              "    </div>\n",
              "\n",
              "    </div>\n",
              "  </div>\n"
            ],
            "application/vnd.google.colaboratory.intrinsic+json": {
              "type": "dataframe",
              "variable_name": "df_ai",
              "summary": "{\n  \"name\": \"df_ai\",\n  \"rows\": 530,\n  \"fields\": [\n    {\n      \"column\": \"book_title\",\n      \"properties\": {\n        \"dtype\": \"category\",\n        \"num_unique_values\": 23,\n        \"samples\": [\n          \"Tales of a Fourth Grade Nothing\",\n          \"A Long Walk to Water\",\n          \"The Lemonade War\"\n        ],\n        \"semantic_type\": \"\",\n        \"description\": \"\"\n      }\n    },\n    {\n      \"column\": \"author\",\n      \"properties\": {\n        \"dtype\": \"category\",\n        \"num_unique_values\": 21,\n        \"samples\": [\n          \"Jacqueline Davies\",\n          \"Sheila Turnage\",\n          \"Beverly Cleary\"\n        ],\n        \"semantic_type\": \"\",\n        \"description\": \"\"\n      }\n    },\n    {\n      \"column\": \"question_number\",\n      \"properties\": {\n        \"dtype\": \"number\",\n        \"std\": 6,\n        \"min\": 1,\n        \"max\": 22,\n        \"num_unique_values\": 22,\n        \"samples\": [\n          1,\n          14,\n          9\n        ],\n        \"semantic_type\": \"\",\n        \"description\": \"\"\n      }\n    },\n    {\n      \"column\": \"question\",\n      \"properties\": {\n        \"dtype\": \"string\",\n        \"num_unique_values\": 530,\n        \"samples\": [\n          \"How does the character of Boone challenge traditional stereotypes of cowboys in Western literature, and what does his inclusion add to the overall themes of the novel?\",\n          \"How does Coach influence Ghost's growth and development as a character?\",\n          \"How does the concept of fairness come into play during the lemonade stand competition, and how do the characters navigate this issue?\"\n        ],\n        \"semantic_type\": \"\",\n        \"description\": \"\"\n      }\n    },\n    {\n      \"column\": \"length\",\n      \"properties\": {\n        \"dtype\": \"number\",\n        \"std\": 59,\n        \"min\": 55,\n        \"max\": 510,\n        \"num_unique_values\": 154,\n        \"samples\": [\n          114,\n          105,\n          413\n        ],\n        \"semantic_type\": \"\",\n        \"description\": \"\"\n      }\n    },\n    {\n      \"column\": \"source\",\n      \"properties\": {\n        \"dtype\": \"category\",\n        \"num_unique_values\": 1,\n        \"samples\": [\n          \"AI\"\n        ],\n        \"semantic_type\": \"\",\n        \"description\": \"\"\n      }\n    }\n  ]\n}"
            }
          },
          "metadata": {},
          "execution_count": 35
        }
      ]
    },
    {
      "cell_type": "markdown",
      "metadata": {
        "id": "rny6QcoK_gpY"
      },
      "source": [
        "# 🤖 vs 👤 AI 질문 vs 인간 질문 분석 노트북\n",
        "\n",
        "이 노트북은 Google Sheets에 있는 Sheet1(AI 질문), Sheet2(인간 질문)을 기반으로 다음 항목을 비교 분석합니다:\n",
        "\n",
        "- 문장 길이 평균, 단어 수, Type-Token Ratio\n",
        "- 가독성 점수 (Flesch, Gunning Fog)\n",
        "- Lexical 다양성 (hapax legomena 비율)\n",
        "- SBERT 임베딩 → UMAP/t-SNE 시각화\n",
        "\n",
        "✅ 사전 요구사항:\n",
        "- Sheet1, Sheet2가 같은 구조로 되어 있어야 함 (book_title, author, question_number, question, length, source)"
      ]
    },
    {
      "cell_type": "code",
      "execution_count": null,
      "metadata": {
        "colab": {
          "base_uri": "https://localhost:8080/"
        },
        "id": "TC0dpjCx_gpZ",
        "outputId": "5cceb76d-8614-4389-fff3-526dd4769021"
      },
      "outputs": [
        {
          "output_type": "stream",
          "name": "stdout",
          "text": [
            "\u001b[2K   \u001b[90m━━━━━━━━━━━━━━━━━━━━━━━━━━━━━━━━━━━━━━━━\u001b[0m \u001b[32m175.3/175.3 kB\u001b[0m \u001b[31m5.1 MB/s\u001b[0m eta \u001b[36m0:00:00\u001b[0m\n",
            "\u001b[2K   \u001b[91m━━━━━━━━━━━━━━━━━━━━━━━━━━━━━━━━━━━━━━━\u001b[0m\u001b[91m╸\u001b[0m \u001b[32m363.4/363.4 MB\u001b[0m \u001b[31m21.5 MB/s\u001b[0m eta \u001b[36m0:00:01\u001b[0m"
          ]
        }
      ],
      "source": [
        "!pip install gspread oauth2client textstat sentence-transformers umap-learn matplotlib seaborn --quiet"
      ]
    },
    {
      "cell_type": "code",
      "execution_count": null,
      "metadata": {
        "id": "4A_kmZeF_gpZ"
      },
      "outputs": [],
      "source": [
        "import pandas as pd\n",
        "import gspread\n",
        "from oauth2client.service_account import ServiceAccountCredentials\n",
        "import textstat\n",
        "from collections import Counter\n",
        "import matplotlib.pyplot as plt\n",
        "import seaborn as sns\n",
        "from sentence_transformers import SentenceTransformer\n",
        "import umap\n",
        "from sklearn.preprocessing import LabelEncoder"
      ]
    },
    {
      "cell_type": "code",
      "execution_count": null,
      "metadata": {
        "colab": {
          "base_uri": "https://localhost:8080/"
        },
        "id": "Hat5CXfL_gpa",
        "outputId": "9caf4f94-c152-4f3c-9589-501aa3f5b10b"
      },
      "outputs": [
        {
          "output_type": "execute_result",
          "data": {
            "text/plain": [
              "{'spreadsheetId': '1LHF_0v3woLI7q2MBhryjcGjvPRnPfHCwah7NWeeUMcg',\n",
              " 'updatedRange': 'Sheet2!A1:F507',\n",
              " 'updatedRows': 507,\n",
              " 'updatedColumns': 6,\n",
              " 'updatedCells': 3042}"
            ]
          },
          "metadata": {},
          "execution_count": 23
        }
      ],
      "source": [
        "# ✅ Google Sheets 연동\n",
        "scope = [\"https://spreadsheets.google.com/feeds\", \"https://www.googleapis.com/auth/drive\"]\n",
        "creds = ServiceAccountCredentials.from_json_keyfile_name(\"credentials.json\", scope)\n",
        "gc = gspread.authorize(creds)\n",
        "\n",
        "sheet = gc.open(\"AI_Questions_Dataset\")\n",
        "ai_data = pd.DataFrame(sheet.worksheet(\"Sheet1\").get_all_records())\n",
        "human_sheet = sheet.worksheet(\"Sheet2\")\n",
        "human_data = pd.DataFrame(human_sheet.get_all_records())\n",
        "\n",
        "# 📌 Sheet2에 length 및 source 컬럼 자동 생성 및 업데이트\n",
        "human_data[\"length\"] = human_data[\"question\"].apply(len)\n",
        "human_data[\"source\"] = \"Human\"\n",
        "human_sheet.clear()\n",
        "human_sheet.update([human_data.columns.values.tolist()] + human_data.values.tolist())\n"
      ]
    },
    {
      "cell_type": "markdown",
      "metadata": {
        "id": "V-_AJ9rs_gpa"
      },
      "source": [
        "## 📊 언어 통계 분석 함수 정의\n",
        "- 문장 길이, 단어 수, TTR, 가독성, 희귀 단어 등"
      ]
    },
    {
      "cell_type": "code",
      "source": [
        "import nltk\n",
        "nltk.download('punkt')\n",
        "nltk.download('punkt_tab')\n"
      ],
      "metadata": {
        "colab": {
          "base_uri": "https://localhost:8080/"
        },
        "id": "96ujp2J_Buks",
        "outputId": "c5a43637-7aca-46fd-8fc0-739dbc1dcb1f"
      },
      "execution_count": null,
      "outputs": [
        {
          "output_type": "stream",
          "name": "stderr",
          "text": [
            "[nltk_data] Downloading package punkt to /root/nltk_data...\n",
            "[nltk_data]   Package punkt is already up-to-date!\n",
            "[nltk_data] Downloading package punkt_tab to /root/nltk_data...\n",
            "[nltk_data]   Unzipping tokenizers/punkt_tab.zip.\n"
          ]
        },
        {
          "output_type": "execute_result",
          "data": {
            "text/plain": [
              "True"
            ]
          },
          "metadata": {},
          "execution_count": 9
        }
      ]
    },
    {
      "cell_type": "code",
      "execution_count": null,
      "metadata": {
        "id": "LhE64WWm_gpa"
      },
      "outputs": [],
      "source": [
        "# 분석 수행\n",
        "ai_stats = ai_data['question'].apply(analyze_text).apply(pd.Series)\n",
        "human_stats = human_data['question'].apply(analyze_text).apply(pd.Series)\n",
        "\n",
        "ai_data = pd.concat([ai_data, ai_stats], axis=1)\n",
        "human_data = pd.concat([human_data, human_stats], axis=1)\n",
        "\n",
        "ai_data['label'] = 'AI'\n",
        "human_data['label'] = 'Human'\n",
        "combined = pd.concat([ai_data, human_data])"
      ]
    },
    {
      "cell_type": "markdown",
      "metadata": {
        "id": "ahukk8Be_gpa"
      },
      "source": [
        "## 📉 기본 비교 시각화 (문장 길이, TTR, 가독성 등)\n",
        "\n",
        "이 분석에서는 AI 질문과 인간 질문 간의 **언어적 차이**를 시각화합니다.\n",
        "\n",
        "사용된 지표는 다음과 같습니다:\n",
        "- `word_count`: 문장의 총 단어 수\n",
        "- `ttr` (Type-Token Ratio): 단어 다양성 비율\n",
        "- `hapax_ratio`: 한 번만 등장한 희귀 단어 비율\n",
        "- `flesch`: Flesch 읽기 용이도 (높을수록 쉬운 문장)\n",
        "- `gunning_fog`: Gunning Fog 지수 (높을수록 난해한 문장)\n",
        "\n",
        "아래 박스플롯(Boxplot)은 각 지표별로 AI와 Human 질문의 분포를 비교합니다.\n"
      ]
    },
    {
      "cell_type": "code",
      "execution_count": null,
      "metadata": {
        "colab": {
          "base_uri": "https://localhost:8080/",
          "height": 1000
        },
        "id": "GklOzgrj_gpa",
        "outputId": "54935f09-a858-47f6-b542-82593a549ec2"
      },
      "outputs": [
        {
          "output_type": "stream",
          "name": "stderr",
          "text": [
            "/usr/local/lib/python3.11/dist-packages/IPython/core/pylabtools.py:151: UserWarning: Glyph 48708 (\\N{HANGUL SYLLABLE BI}) missing from font(s) DejaVu Sans.\n",
            "  fig.canvas.print_figure(bytes_io, **kw)\n",
            "/usr/local/lib/python3.11/dist-packages/IPython/core/pylabtools.py:151: UserWarning: Glyph 44368 (\\N{HANGUL SYLLABLE GYO}) missing from font(s) DejaVu Sans.\n",
            "  fig.canvas.print_figure(bytes_io, **kw)\n"
          ]
        },
        {
          "output_type": "display_data",
          "data": {
            "text/plain": [
              "<Figure size 600x400 with 1 Axes>"
            ],
            "image/png": "[encoded data removed]"
          },
          "metadata": {}
        },
        {
          "output_type": "stream",
          "name": "stderr",
          "text": [
            "/usr/local/lib/python3.11/dist-packages/IPython/core/pylabtools.py:151: UserWarning: Glyph 48708 (\\N{HANGUL SYLLABLE BI}) missing from font(s) DejaVu Sans.\n",
            "  fig.canvas.print_figure(bytes_io, **kw)\n",
            "/usr/local/lib/python3.11/dist-packages/IPython/core/pylabtools.py:151: UserWarning: Glyph 44368 (\\N{HANGUL SYLLABLE GYO}) missing from font(s) DejaVu Sans.\n",
            "  fig.canvas.print_figure(bytes_io, **kw)\n"
          ]
        },
        {
          "output_type": "display_data",
          "data": {
            "text/plain": [
              "<Figure size 600x400 with 1 Axes>"
            ],
            "image/png": "[encoded data removed]"
          },
          "metadata": {}
        },
        {
          "output_type": "stream",
          "name": "stderr",
          "text": [
            "/usr/local/lib/python3.11/dist-packages/IPython/core/pylabtools.py:151: UserWarning: Glyph 48708 (\\N{HANGUL SYLLABLE BI}) missing from font(s) DejaVu Sans.\n",
            "  fig.canvas.print_figure(bytes_io, **kw)\n",
            "/usr/local/lib/python3.11/dist-packages/IPython/core/pylabtools.py:151: UserWarning: Glyph 44368 (\\N{HANGUL SYLLABLE GYO}) missing from font(s) DejaVu Sans.\n",
            "  fig.canvas.print_figure(bytes_io, **kw)\n"
          ]
        },
        {
          "output_type": "display_data",
          "data": {
            "text/plain": [
              "<Figure size 600x400 with 1 Axes>"
            ],
            "image/png": "[encoded data removed]"
          },
          "metadata": {}
        },
        {
          "output_type": "stream",
          "name": "stderr",
          "text": [
            "/usr/local/lib/python3.11/dist-packages/IPython/core/pylabtools.py:151: UserWarning: Glyph 48708 (\\N{HANGUL SYLLABLE BI}) missing from font(s) DejaVu Sans.\n",
            "  fig.canvas.print_figure(bytes_io, **kw)\n",
            "/usr/local/lib/python3.11/dist-packages/IPython/core/pylabtools.py:151: UserWarning: Glyph 44368 (\\N{HANGUL SYLLABLE GYO}) missing from font(s) DejaVu Sans.\n",
            "  fig.canvas.print_figure(bytes_io, **kw)\n"
          ]
        },
        {
          "output_type": "display_data",
          "data": {
            "text/plain": [
              "<Figure size 600x400 with 1 Axes>"
            ],
            "image/png": "[encoded data removed]"
          },
          "metadata": {}
        },
        {
          "output_type": "stream",
          "name": "stderr",
          "text": [
            "/usr/local/lib/python3.11/dist-packages/IPython/core/pylabtools.py:151: UserWarning: Glyph 48708 (\\N{HANGUL SYLLABLE BI}) missing from font(s) DejaVu Sans.\n",
            "  fig.canvas.print_figure(bytes_io, **kw)\n",
            "/usr/local/lib/python3.11/dist-packages/IPython/core/pylabtools.py:151: UserWarning: Glyph 44368 (\\N{HANGUL SYLLABLE GYO}) missing from font(s) DejaVu Sans.\n",
            "  fig.canvas.print_figure(bytes_io, **kw)\n"
          ]
        },
        {
          "output_type": "display_data",
          "data": {
            "text/plain": [
              "<Figure size 600x400 with 1 Axes>"
            ],
            "image/png": "[encoded data removed]"
          },
          "metadata": {}
        }
      ],
      "source": [
        "metrics = ['word_count', 'ttr', 'hapax_ratio', 'flesch', 'gunning_fog']\n",
        "for metric in metrics:\n",
        "    plt.figure(figsize=(6,4))\n",
        "    sns.boxplot(data=combined, x='label', y=metric)\n",
        "    plt.title(f\"{metric} 비교\")\n",
        "    plt.show()"
      ]
    },
    {
      "cell_type": "markdown",
      "source": [
        "## 📖 Boxplot 해석 방법\n",
        "\n",
        "| 구성 요소 | 의미 |\n",
        "|------------|------|\n",
        "| 상자(Box) | 중간 50% 데이터 분포 (IQR: Q1~Q3) |\n",
        "| 가로선    | 중앙값 (Median) |\n",
        "| 수염(Whisker) | Q1 - 1.5×IQR 또는 Q3 + 1.5×IQR 범위 |\n",
        "| ● 점들     | 이상치 (Outliers) |\n",
        "\n",
        "### 🔍 지표별 해석\n",
        "- **`word_count`**: 평균적으로 누가 더 긴 질문을 쓰는가?\n",
        "- **`ttr`**: 다양한 단어를 더 사용하는 쪽은?\n",
        "- **`hapax_ratio`**: 희귀 단어 사용이 많은 쪽은?\n",
        "- **`flesch`**: 어떤 질문이 더 읽기 쉬운가?\n",
        "- **`gunning_fog`**: 복잡한 문장은 누가 더 많이 쓰는가?\n",
        "\n",
        "### 📌 예시 해석 가이드\n",
        "- `flesch`가 **AI < Human**이면 → AI 문장이 더 어려움\n",
        "- `ttr`이 **Human > AI**이면 → 인간이 더 다양한 단어 사용\n",
        "- `word_count`가 비슷하더라도, `gunning_fog`가 다르면 문장 구조의 복잡성이 다름"
      ],
      "metadata": {
        "id": "dUIQ5IElFIta"
      }
    },
    {
      "cell_type": "markdown",
      "metadata": {
        "id": "GkDC9hrc_gpa"
      },
      "source": [
        "## 🧠 의미 임베딩 + UMAP 시각화 (SBERT 기반)\n",
        "\n",
        "해석 가이드\n",
        "- **같은 영역에 몰려 있음** → 의미적으로 유사한 질문들이 많음\n",
        "- **AI가 한쪽에 군집** → 반복적 패턴 or 특정 질문 구조에 치우쳐 있음\n",
        "- **Human이 퍼져 있음** → 다양한 맥락과 표현 방식 사용\n",
        "\n",
        "시각화 결과에서 AI가 좁은 공간에 몰려 있다면, 이는 \"의미 다양성 부족\"을 의미할 수 있습니다."
      ]
    },
    {
      "cell_type": "code",
      "execution_count": null,
      "metadata": {
        "colab": {
          "base_uri": "https://localhost:8080/",
          "height": 1000,
          "referenced_widgets": [
            "956848e1b16a4e10b46e27a42497bae0",
            "7b4cfb253fda4fe5b01b11fd6c4a96a4",
            "da6a9dc551874758a7318cbcecae61ff",
            "645a9dfb21db4da7a722b5ecff839b08",
            "68bfbcbaf3b945dc8464f6738eccd366",
            "f04d4957c9f34433bff9487ef732007a",
            "7ee3d5d79a0c4e23a2773d77c9539bfe",
            "bd8efd4749d347c5ad0b08f8bb7dd297",
            "02ab9fdf4ef74f85a4411ef71c47f9d2",
            "325a5fd523f247bcb6bd3bf5c29155c0",
            "7db20c47f73f4c44bd8097e5e40ae414",
            "e7068e4da0f4468ebf9758c31d00128d",
            "3c2105b6a64c44aba124c8e1161b73f2",
            "56b7b683022040318da128ba4cd27f96",
            "3067d97231c045deb323f1be6d3c52ad",
            "e3a86a11a39345909fc7215aae1d5dea",
            "ff9b32e434744200975a7086beac7500",
            "2bbd5fb8d8794e8e8e76aa90cc1dfed7",
            "23d486e00f4d4816ad05d533844a53f5",
            "cf45b14f3abc43068bfcc3f56333a775",
            "28dcfd4958724a3883288b8ac2bed22c",
            "fee8ed2312384d84bbbadefdb631642a",
            "52025c70a7b54f76869af0561c1485b9",
            "901f56736a5841f588b10fb308ba5045",
            "535a8007726b472eb492899f8fa5cd8d",
            "8ec394551cbc475db477dbf2c8de3bd4",
            "8daefc2ccf7d42fab0d92add20b76f35",
            "2c8a10518a774c8a8dc08058a83b8ce7",
            "cf6b2eec8bd348e8802c960492257448",
            "b5f4caa9633e4af5b0dab2276927b8b9",
            "9a4fef1a30d64d919a2659c2fedc15bc",
            "0d95b968b0254e72a4c5f9929d4e7fa7",
            "c458a4cdee5540d5aebc3fd7132de37e",
            "05325e3ed65545488498b43c351d11bb",
            "e8b9406bc87040c59b8f84a61c4c02df",
            "55508d3f73a14b00b6790200f51b581d",
            "eff2dd2282fb4736bc5600aa2eff9b9c",
            "b5548bc39ef04116afce4faf66876edf",
            "ee265536360645d1a6c1747da28cf265",
            "69ba865637944cce845bc1d0f9eb951c",
            "8abc469921254d4da641a4e71ec85ff5",
            "02554b31a0d643d095b210e2bb5def8c",
            "73b2c4f988684146a58c08c7019a1249",
            "b1b2d8ed0bfd446c81e0b9993e9012d5",
            "f8472ed705164e56952b1a1df304d20d",
            "979bc308cdaa4642b451e4e9cd86b2a5",
            "ff6730574bae457ab0f6a69844b48c3b",
            "cfa2f824b7844704818ca13bb9c2a65e",
            "4b8694e75e814feb87314f276c2c3dc9",
            "711e8ee81a684c50b4fff0ae50bc830d",
            "dd22dae5198c4deeb6e49e0f38f4f54e",
            "ed5af507e76440da8d89f323a930e1b1",
            "430578326e7b46c89e57f06bcffef95b",
            "909444b8c63a4f01b3c5593c5d4e0c2e",
            "e2fb1e5c5b5949859e55c4c09b4955e6",
            "7a4a6a217c9740ab8a262ea5e1449fde",
            "35b70e4047604bd28b5be9426d8ca680",
            "987cf221faae4df4a427a61469e4cbe0",
            "581ac1f5c18b4acc9ac46985d990be10",
            "d684d02cb5574d31a2678452dc073318",
            "0866855d47924dda96466dc2654d2b22",
            "87b7621f6850422bab9dbbdc1cddb40d",
            "403aad6d393746bd80b7a9dfb37359b9",
            "418f347fea544d2482356584ccfe4eed",
            "8551f93ea615485a82b973a7d2c56392",
            "98f70fa86e9a4a90b1c4f9d5a94ede82",
            "b821f0028cd64687879ef7751582419d",
            "54df08ac73f4496686fb4bc5b1a2a3f2",
            "978ecb608235431fbf72d6b2fab4c5d6",
            "5717f061601245ceaf0d99a33cfc61e8",
            "9c61b673473544bfbc1149739e69e801",
            "b38923f1216d47e28c4612180ab4ac12",
            "321504ece4ba4bd4b8b54646dcd4b003",
            "76301404ce0d44119b78a47abf77cf94",
            "da83566020504088a72f09cfe45312a3",
            "8ffb3fb307e54f54afecaa447f53404c",
            "6476f61402c54a639900efdf0827ff29",
            "c08c2fefe06e4057bdb0dc5b61a29d20",
            "467c9a6323bd42999aa05792277cf34e",
            "ecf153e7b8114718b48775ab17371662",
            "d0a0bb20f4194ed0a49834e224b27b8a",
            "e7d9fdd88a6f4358bab134fae0a12026",
            "70ee649ae4e0430a96357eb271ccf7aa",
            "535c04e3d73f4e48a874f1c08b45b567",
            "192533da1dc741f1827f668100669bfa",
            "ab0246c615f545698b3d1e25b9323d87",
            "1960665c2c8e49b3ac14b3c91bbeb883",
            "511a239584cb4a459dc1c564bb364d60",
            "9140c3730b074a64b035ffeee3f96847",
            "152d7c0c53424c33bbfa5fd504dd480a",
            "a5396b6e73334fab828539304519b27e",
            "ede3577910634372af2fa6e3c0289067",
            "a1c4062112bf4558aaa1bfce326353ec",
            "898ab5e8ac4e4f9fa5ae9e7621771441",
            "ecb7b2800df8450a9b1cc2884c75be10",
            "842bd81b5ba74444a702d240d5916e50",
            "54f542061bdc45109dfea2d9086f2dc7",
            "a14f5fdaceff4887a6d0b76a3c9b377c",
            "fd7d5ec3becc41e9a418b3f3dcc635f0",
            "e426d1c829834f13be7134f31c78ceea",
            "65b7500b14c64328beeb54110adbac67",
            "a0dcfa6cccb744fe9e02263c2b8c8198",
            "9b882142e4954aa5a68e293caf1b1613",
            "9ce5719e6a324e598da78bab928cb44f",
            "1b036187c3ad4ce5a1e9ea5f8379bc6d",
            "36da9b250e834694886cee1ebfde01c8",
            "ef54cf93eafe4907ae26464b3df9f1d4",
            "29cbdaa0a106401283f8fc42f2fb8ced",
            "3716a9c5e12245529f8bdc4156b305de",
            "af66ff138ae9427abbf5dc267522931e",
            "0242a01cf31c42c7be7a8c55b4a67c7e",
            "dcaa588d143f49f48d62ed8548d5250f",
            "92d2407ea301470ebb90bbd9baf6a0f8",
            "2cd9f8f28ced4ccc8e57d8f2b94a72d7",
            "d63f7c56fb8347f689a723a4173aea55",
            "381ae94f180a4efd8accd84bbe6a90ff",
            "a0cded274f31452aa7400032da022596",
            "04518bee23614edf85f098005a45a3f5",
            "5538c09a28c14ae982b465c375600783",
            "8c067f50415840b09c15fd1548d974d4",
            "3688762e9cd34edfbb0b679d45a59d66"
          ]
        },
        "id": "OP_DTitZ_gpa",
        "outputId": "1391a3a9-511a-4188-8aa7-818c96f94099"
      },
      "outputs": [
        {
          "output_type": "stream",
          "name": "stderr",
          "text": [
            "/usr/local/lib/python3.11/dist-packages/huggingface_hub/utils/_auth.py:94: UserWarning: \n",
            "The secret `HF_TOKEN` does not exist in your Colab secrets.\n",
            "To authenticate with the Hugging Face Hub, create a token in your settings tab (https://huggingface.co/settings/tokens), set it as secret in your Google Colab and restart your session.\n",
            "You will be able to reuse this secret in all of your notebooks.\n",
            "Please note that authentication is recommended but still optional to access public models or datasets.\n",
            "  warnings.warn(\n"
          ]
        },
        {
          "output_type": "display_data",
          "data": {
            "text/plain": [
              "modules.json:   0%|          | 0.00/349 [00:00<?, ?B/s]"
            ],
            "application/vnd.jupyter.widget-view+json": {
              "version_major": 2,
              "version_minor": 0,
              "model_id": "956848e1b16a4e10b46e27a42497bae0"
            }
          },
          "metadata": {}
        },
        {
          "output_type": "display_data",
          "data": {
            "text/plain": [
              "config_sentence_transformers.json:   0%|          | 0.00/116 [00:00<?, ?B/s]"
            ],
            "application/vnd.jupyter.widget-view+json": {
              "version_major": 2,
              "version_minor": 0,
              "model_id": "e7068e4da0f4468ebf9758c31d00128d"
            }
          },
          "metadata": {}
        },
        {
          "output_type": "display_data",
          "data": {
            "text/plain": [
              "README.md:   0%|          | 0.00/10.5k [00:00<?, ?B/s]"
            ],
            "application/vnd.jupyter.widget-view+json": {
              "version_major": 2,
              "version_minor": 0,
              "model_id": "52025c70a7b54f76869af0561c1485b9"
            }
          },
          "metadata": {}
        },
        {
          "output_type": "display_data",
          "data": {
            "text/plain": [
              "sentence_bert_config.json:   0%|          | 0.00/53.0 [00:00<?, ?B/s]"
            ],
            "application/vnd.jupyter.widget-view+json": {
              "version_major": 2,
              "version_minor": 0,
              "model_id": "05325e3ed65545488498b43c351d11bb"
            }
          },
          "metadata": {}
        },
        {
          "output_type": "display_data",
          "data": {
            "text/plain": [
              "config.json:   0%|          | 0.00/612 [00:00<?, ?B/s]"
            ],
            "application/vnd.jupyter.widget-view+json": {
              "version_major": 2,
              "version_minor": 0,
              "model_id": "f8472ed705164e56952b1a1df304d20d"
            }
          },
          "metadata": {}
        },
        {
          "output_type": "display_data",
          "data": {
            "text/plain": [
              "model.safetensors:   0%|          | 0.00/90.9M [00:00<?, ?B/s]"
            ],
            "application/vnd.jupyter.widget-view+json": {
              "version_major": 2,
              "version_minor": 0,
              "model_id": "7a4a6a217c9740ab8a262ea5e1449fde"
            }
          },
          "metadata": {}
        },
        {
          "output_type": "display_data",
          "data": {
            "text/plain": [
              "tokenizer_config.json:   0%|          | 0.00/350 [00:00<?, ?B/s]"
            ],
            "application/vnd.jupyter.widget-view+json": {
              "version_major": 2,
              "version_minor": 0,
              "model_id": "b821f0028cd64687879ef7751582419d"
            }
          },
          "metadata": {}
        },
        {
          "output_type": "display_data",
          "data": {
            "text/plain": [
              "vocab.txt:   0%|          | 0.00/232k [00:00<?, ?B/s]"
            ],
            "application/vnd.jupyter.widget-view+json": {
              "version_major": 2,
              "version_minor": 0,
              "model_id": "c08c2fefe06e4057bdb0dc5b61a29d20"
            }
          },
          "metadata": {}
        },
        {
          "output_type": "display_data",
          "data": {
            "text/plain": [
              "tokenizer.json:   0%|          | 0.00/466k [00:00<?, ?B/s]"
            ],
            "application/vnd.jupyter.widget-view+json": {
              "version_major": 2,
              "version_minor": 0,
              "model_id": "9140c3730b074a64b035ffeee3f96847"
            }
          },
          "metadata": {}
        },
        {
          "output_type": "display_data",
          "data": {
            "text/plain": [
              "special_tokens_map.json:   0%|          | 0.00/112 [00:00<?, ?B/s]"
            ],
            "application/vnd.jupyter.widget-view+json": {
              "version_major": 2,
              "version_minor": 0,
              "model_id": "e426d1c829834f13be7134f31c78ceea"
            }
          },
          "metadata": {}
        },
        {
          "output_type": "display_data",
          "data": {
            "text/plain": [
              "config.json:   0%|          | 0.00/190 [00:00<?, ?B/s]"
            ],
            "application/vnd.jupyter.widget-view+json": {
              "version_major": 2,
              "version_minor": 0,
              "model_id": "0242a01cf31c42c7be7a8c55b4a67c7e"
            }
          },
          "metadata": {}
        },
        {
          "output_type": "stream",
          "name": "stderr",
          "text": [
            "/usr/local/lib/python3.11/dist-packages/sklearn/utils/deprecation.py:151: FutureWarning: 'force_all_finite' was renamed to 'ensure_all_finite' in 1.6 and will be removed in 1.8.\n",
            "  warnings.warn(\n",
            "/usr/local/lib/python3.11/dist-packages/IPython/core/pylabtools.py:151: UserWarning: Glyph 51076 (\\N{HANGUL SYLLABLE IM}) missing from font(s) DejaVu Sans.\n",
            "  fig.canvas.print_figure(bytes_io, **kw)\n",
            "/usr/local/lib/python3.11/dist-packages/IPython/core/pylabtools.py:151: UserWarning: Glyph 48288 (\\N{HANGUL SYLLABLE BE}) missing from font(s) DejaVu Sans.\n",
            "  fig.canvas.print_figure(bytes_io, **kw)\n",
            "/usr/local/lib/python3.11/dist-packages/IPython/core/pylabtools.py:151: UserWarning: Glyph 46377 (\\N{HANGUL SYLLABLE DING}) missing from font(s) DejaVu Sans.\n",
            "  fig.canvas.print_figure(bytes_io, **kw)\n",
            "/usr/local/lib/python3.11/dist-packages/IPython/core/pylabtools.py:151: UserWarning: Glyph 49884 (\\N{HANGUL SYLLABLE SI}) missing from font(s) DejaVu Sans.\n",
            "  fig.canvas.print_figure(bytes_io, **kw)\n",
            "/usr/local/lib/python3.11/dist-packages/IPython/core/pylabtools.py:151: UserWarning: Glyph 44033 (\\N{HANGUL SYLLABLE GAG}) missing from font(s) DejaVu Sans.\n",
            "  fig.canvas.print_figure(bytes_io, **kw)\n",
            "/usr/local/lib/python3.11/dist-packages/IPython/core/pylabtools.py:151: UserWarning: Glyph 54868 (\\N{HANGUL SYLLABLE HWA}) missing from font(s) DejaVu Sans.\n",
            "  fig.canvas.print_figure(bytes_io, **kw)\n",
            "/usr/local/lib/python3.11/dist-packages/IPython/core/pylabtools.py:151: UserWarning: Glyph 51064 (\\N{HANGUL SYLLABLE IN}) missing from font(s) DejaVu Sans.\n",
            "  fig.canvas.print_figure(bytes_io, **kw)\n",
            "/usr/local/lib/python3.11/dist-packages/IPython/core/pylabtools.py:151: UserWarning: Glyph 44036 (\\N{HANGUL SYLLABLE GAN}) missing from font(s) DejaVu Sans.\n",
            "  fig.canvas.print_figure(bytes_io, **kw)\n",
            "/usr/local/lib/python3.11/dist-packages/IPython/core/pylabtools.py:151: UserWarning: Glyph 51656 (\\N{HANGUL SYLLABLE JIL}) missing from font(s) DejaVu Sans.\n",
            "  fig.canvas.print_figure(bytes_io, **kw)\n",
            "/usr/local/lib/python3.11/dist-packages/IPython/core/pylabtools.py:151: UserWarning: Glyph 47928 (\\N{HANGUL SYLLABLE MUN}) missing from font(s) DejaVu Sans.\n",
            "  fig.canvas.print_figure(bytes_io, **kw)\n"
          ]
        },
        {
          "output_type": "display_data",
          "data": {
            "text/plain": [
              "<Figure size 800x600 with 1 Axes>"
            ],
            "image/png": "[encoded data removed]"
          },
          "metadata": {}
        }
      ],
      "source": [
        "model = SentenceTransformer('all-MiniLM-L6-v2')\n",
        "embeddings = model.encode(combined['question'].tolist())\n",
        "\n",
        "reducer = umap.UMAP(n_neighbors=15, min_dist=0.1, metric='cosine')\n",
        "embedding_2d = reducer.fit_transform(embeddings)\n",
        "\n",
        "combined['x'] = embedding_2d[:, 0]\n",
        "combined['y'] = embedding_2d[:, 1]\n",
        "\n",
        "plt.figure(figsize=(8,6))\n",
        "sns.scatterplot(data=combined, x='x', y='y', hue='label', alpha=0.7)\n",
        "plt.title(\"UMAP 임베딩 시각화 (AI vs 인간 질문)\")\n",
        "plt.show()"
      ]
    },
    {
      "cell_type": "markdown",
      "source": [
        "## 📊 통계적 유의성 검정 (t-test, Mann-Whitney U)\n",
        "\n",
        "두 집단(AI vs Human)의 평균 차이가 통계적으로 **유의미한지** 검정합니다.\n",
        "\n",
        "- 정규성 가정: t-test (독립표본)\n",
        "- 비모수: Mann-Whitney U test (순위 기반)"
      ],
      "metadata": {
        "id": "eB1yNhVUFpOc"
      }
    },
    {
      "cell_type": "code",
      "source": [
        "from scipy.stats import ttest_ind, mannwhitneyu\n",
        "\n",
        "for metric in ['word_count', 'ttr', 'hapax_ratio', 'flesch', 'gunning_fog']:\n",
        "    print(f\"\\n📌 {metric} 비교:\")\n",
        "    group1 = ai_data[metric].dropna()\n",
        "    group2 = human_data[metric].dropna()\n",
        "\n",
        "    t_stat, t_p = ttest_ind(group1, group2, equal_var=False)\n",
        "    u_stat, u_p = mannwhitneyu(group1, group2, alternative='two-sided')\n",
        "\n",
        "    print(f\"t-test p-value: {t_p:.4f} ({'유의함' if t_p < 0.05 else '차이 없음'})\")\n",
        "    print(f\"Mann-Whitney U p-value: {u_p:.4f} ({'유의함' if u_p < 0.05 else '차이 없음'})\")"
      ],
      "metadata": {
        "colab": {
          "base_uri": "https://localhost:8080/"
        },
        "id": "d5kwpYr0FoGd",
        "outputId": "228892e5-70e4-4f9c-c045-b9311c24df71"
      },
      "execution_count": null,
      "outputs": [
        {
          "output_type": "stream",
          "name": "stdout",
          "text": [
            "\n",
            "📌 word_count 비교:\n",
            "t-test p-value: 0.1100 (차이 없음)\n",
            "Mann-Whitney U p-value: 0.1098 (차이 없음)\n",
            "\n",
            "📌 ttr 비교:\n",
            "t-test p-value: 0.0018 (유의함)\n",
            "Mann-Whitney U p-value: 0.0023 (유의함)\n",
            "\n",
            "📌 hapax_ratio 비교:\n",
            "t-test p-value: 0.0012 (유의함)\n",
            "Mann-Whitney U p-value: 0.0024 (유의함)\n",
            "\n",
            "📌 flesch 비교:\n",
            "t-test p-value: 0.1248 (차이 없음)\n",
            "Mann-Whitney U p-value: 0.1114 (차이 없음)\n",
            "\n",
            "📌 gunning_fog 비교:\n",
            "t-test p-value: 0.6819 (차이 없음)\n",
            "Mann-Whitney U p-value: 0.4789 (차이 없음)\n"
          ]
        }
      ]
    }
  ]
}